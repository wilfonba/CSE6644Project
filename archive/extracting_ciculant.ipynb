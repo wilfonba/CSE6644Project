{
 "cells": [
  {
   "cell_type": "code",
   "execution_count": 1,
   "metadata": {},
   "outputs": [],
   "source": [
    "import numpy as np\n",
    "import scipy as sp\n",
    "import scipy.sparse as sps\n",
    "import scipy.sparse.linalg as spsl\n",
    "import numpy.linalg as npl\n",
    "import scipy.linalg as spl\n",
    "from numpy.fft import fft, ifft, fft2\n",
    "from matplotlib import pyplot as plt\n",
    "from pprint import pprint"
   ]
  },
  {
   "cell_type": "code",
   "execution_count": 2,
   "metadata": {},
   "outputs": [],
   "source": [
    "def SMW_iteration(M, N, b, x, tol = 1.e-5, maxit = 100):\n",
    "    # M, N : matrices such as A = M - N\n",
    "    # M : is the first column of the circulant matrix M\n",
    "    # N : is the sparse matrix N\n",
    "    # x : guess of the solution\n",
    "    \n",
    "    err = 1.0\n",
    "    iters = 0\n",
    "#     cc = fft(M)\n",
    "    xhist = []\n",
    "    while (err > tol and iters < maxit):\n",
    "        iters += 1\n",
    "        c = N@x+b\n",
    "#        xnew = fft(ifft(c)/cc).real\n",
    "        xnew = spl.solve_circulant(M,c)\n",
    "        err = npl.norm(xnew-x)\n",
    "        x = np.copy(xnew)\n",
    "        xhist.append(x)\n",
    "        \n",
    "    print('iterations required for convergence:', iters)\n",
    "    \n",
    "    return x, xhist\n",
    "\n",
    "def get_spectral_radius(M:np.ndarray, N:np.ndarray):\n",
    "    Minv = np.linalg.inv(M)\n",
    "    G = Minv @ N\n",
    "    D, V = np.linalg.eig(G)\n",
    "    rho = max(abs(D))\n",
    "    return rho"
   ]
  },
  {
   "cell_type": "code",
   "execution_count": 867,
   "metadata": {},
   "outputs": [
    {
     "name": "stdout",
     "output_type": "stream",
     "text": [
      "Lemma 2.1\n",
      "216.00000000000006\n",
      "216.00000000000014\n",
      "\n",
      "Theorem 2.1\n",
      "Spectral Radius = 0.35000000000000003\n",
      "eigenvalues = [ 0.    0.   -0.35  0.  ]\n",
      "first det =  0.0\n",
      "second det =  2.3800406090401945e-18\n",
      "third det =  9.378906249999997e-05 3.197442310920468e-14 2.998851167390641e-18\n",
      "fourth det =  9.378906249999997e-05 1.1102230246251573e-16 160.00000000000009 1.6660284263281271e-18\n",
      "fifth det =  2.3800406090401776e-18\n",
      "Compare eigs: [ 0.    0.   -0.35  0.  ], [ 0.    0.    0.   -0.35]\n",
      "\n",
      "[[ 1.3   0.    0.    0.3 ]\n",
      " [ 0.05  1.    0.    0.05]\n",
      " [-0.2   0.    1.   -0.2 ]\n",
      " [ 0.05  0.    0.    1.05]]\n",
      "[[-0.77777778 -0.         -0.          0.22222222]\n",
      " [ 0.03703704 -1.         -0.          0.03703704]\n",
      " [-0.14814815 -0.         -1.         -0.14814815]\n",
      " [ 0.03703704 -0.         -0.         -0.96296296]]\n",
      "norm of G: 0.5196152422706632\n",
      "[[-0.3   0.    0.   -0.3 ]\n",
      " [-0.05  0.    0.   -0.05]\n",
      " [ 0.2   0.    0.    0.2 ]\n",
      " [-0.05  0.    0.   -0.05]]\n",
      "[[ 0.275 -0.225  0.025  0.025]\n",
      " [ 0.025  0.275 -0.225  0.025]\n",
      " [ 0.025  0.025  0.275 -0.225]\n",
      " [-0.225  0.025  0.025  0.275]]\n"
     ]
    }
   ],
   "source": [
    "A =  np.array([[5.,3.,2.,2.],\n",
    "               [1.,4.,3.,2.],\n",
    "               [2.,1.,4.,3.],\n",
    "               [4.,2.,1.,5.]])\n",
    "\n",
    "N = sps.lil_matrix((4, 4))\n",
    "N[0,0]=-1.0; N[3,0]=-1.0; N[0,3]=-1.0; N[3,3]=-1.0\n",
    "\n",
    "Na = N.toarray()\n",
    "\n",
    "U, S, Vh = np.linalg.svd(Na)\n",
    "U = U @ np.diag(S)\n",
    "M = (A + N.toarray())\n",
    "Minv = np.linalg.inv(M)\n",
    "\n",
    "### Proving Lemma 2.1 - It works\n",
    "print(\"Lemma 2.1\")\n",
    "print(np.linalg.det(M - U @ Vh))\n",
    "print(np.linalg.det(np.eye(4) - Vh @ Minv @ U ) * np.linalg.det(M))\n",
    "\n",
    "### Proving theorem 2.1\n",
    "D, V = np.linalg.eig(Minv @ Na)\n",
    "rho = max(abs(D))\n",
    "print(\"\\nTheorem 2.1\")\n",
    "print(f\"Spectral Radius = {rho}\")\n",
    "print(f\"eigenvalues = {D}\")\n",
    "eig1 = -rho\n",
    "\n",
    "det1 = np.linalg.det(Minv @ Na - eig1 * np.eye(4))\n",
    "print(\"first det = \", det1) # Correctly 0\n",
    "\n",
    "det2 = np.linalg.det(Minv @ U @ Vh - eig1 * np.eye(4))\n",
    "print(\"second det = \", det2) # Correctly 0\n",
    "\n",
    "det3 = np.linalg.det(-eig1 * Minv) \n",
    "det4 = np.linalg.det(M - U @ Vh / eig1)\n",
    "det5 = det3 * det4\n",
    "print(\"third det = \", det3, det4, det5) # Correctly 0\n",
    "\n",
    "det6 = np.linalg.det(-eig1 * Minv) \n",
    "det7 = np.linalg.det(np.eye(4) - Vh @ Minv @ U / eig1)\n",
    "det8 = np.linalg.det(M)\n",
    "det9 = det6 * det7 *det8\n",
    "print(\"fourth det = \", det6, det7, det8, det9) # Correctly 0\n",
    "\n",
    "det10 = np.linalg.det(Vh @ Minv @ U - eig1 * np.eye(4))\n",
    "print(\"fifth det = \", det10) # Correctly 0\n",
    "\n",
    "D2, V2 = np.linalg.eig(Vh @ Minv @ U)\n",
    "print(f\"Compare eigs: {D}, {D2}\")\n",
    "\n",
    "print()\n",
    "print(np.eye(4) - Minv @ Na)\n",
    "print(np.linalg.inv(Minv @ Na - np.eye(4)))\n",
    "print(f\"norm of G: {np.linalg.norm(Minv @ Na)}\")\n",
    "print(Minv @ Na)\n",
    "print(Minv)\n",
    "# print(M)\n",
    "# print(A)\n",
    "# print(np.linalg.inv(A))"
   ]
  },
  {
   "cell_type": "code",
   "execution_count": 659,
   "metadata": {},
   "outputs": [
    {
     "name": "stdout",
     "output_type": "stream",
     "text": [
      "Iteration Matrix: \n",
      "[[-0.3   0.    0.   -0.3 ]\n",
      " [-0.05  0.    0.   -0.05]\n",
      " [ 0.2   0.    0.    0.2 ]\n",
      " [-0.05  0.    0.   -0.05]]\n",
      "\n",
      "Spectral radius: 0.35\n",
      "\n",
      "I - G: \n",
      "[[ 1.3   0.    0.    0.3 ]\n",
      " [ 0.05  1.    0.    0.05]\n",
      " [-0.2   0.    1.   -0.2 ]\n",
      " [ 0.05  0.    0.    1.05]]\n",
      "\n",
      "I - G is nonsingular: \n",
      "[[ 0.77777778  0.          0.         -0.22222222]\n",
      " [-0.03703704  1.          0.         -0.03703704]\n",
      " [ 0.14814815  0.          1.          0.14814815]\n",
      " [-0.03703704  0.          0.          0.96296296]]\n",
      "\n",
      "k=9: \n",
      "[[ 0.77776026  0.          0.         -0.22223974]\n",
      " [-0.03703996  1.          0.         -0.03703996]\n",
      " [ 0.14815982  0.          1.          0.14815982]\n",
      " [-0.03703996  0.          0.          0.96296004]]\n",
      "\n"
     ]
    }
   ],
   "source": [
    "# Analyzing the iteration matrix\n",
    "G = Minv @ Na\n",
    "print(f\"Iteration Matrix: \\n{G}\\n\")\n",
    "D, V = np.linalg.eig(G)\n",
    "rho = max(abs(D))\n",
    "print(f\"Spectral radius: {rho:.2f}\\n\")\n",
    "print(f\"I - G: \\n{np.eye(4) - G}\\n\")\n",
    "print(f\"I - G is nonsingular: \\n{np.linalg.inv(np.eye(4) - G)}\\n\")\n",
    "Gsum = np.zeros((4,4))\n",
    "for k in range(10):\n",
    "    Gsum += np.linalg.matrix_power(G, k)\n",
    "print(f\"k={k}: \\n{Gsum}\\n\")\n",
    "\n",
    "# print(Gsum)"
   ]
  },
  {
   "cell_type": "code",
   "execution_count": 871,
   "metadata": {},
   "outputs": [
    {
     "data": {
      "text/plain": [
       "Text(0.5, 1.0, 'SMW')"
      ]
     },
     "execution_count": 871,
     "metadata": {},
     "output_type": "execute_result"
    },
    {
     "data": {
      "image/png": "[encoded data removed]",
      "text/plain": [
       "<Figure size 432x288 with 1 Axes>"
      ]
     },
     "metadata": {
      "needs_background": "light"
     },
     "output_type": "display_data"
    }
   ],
   "source": [
    "# Case 1\n",
    "# b = np.random.randint(1, 5, (4, 1))\n",
    "# xexact = np.linalg.solve(A, b)\n",
    "\n",
    "# Case 2\n",
    "# xexact = np.ones(4)\n",
    "xexact = np.random.randint(1, 5, (4, 1))\n",
    "b = A @ xexact\n",
    "\n",
    "# initialize\n",
    "err = 1.0\n",
    "iters = 0\n",
    "xhist = []\n",
    "err = []\n",
    "x = np.zeros(4)\n",
    "\n",
    "# iterate\n",
    "for i in range(40):\n",
    "    c = N @ x + b\n",
    "    xnew = spl.solve_circulant(M[:,0],c)\n",
    "    xhist.append(xnew)\n",
    "    err.append(npl.norm(A @ xnew - b))\n",
    "    x = np.copy(xnew)\n",
    "\n",
    "# plot\n",
    "plt.semilogy(range(1,len(xhist)+1), err)\n",
    "plt.xlabel(\"Iteration\")\n",
    "plt.ylabel(\"Norm Error\")\n",
    "plt.xlim(1, len(xhist))\n",
    "plt.title(\"SMW\")"
   ]
  },
  {
   "cell_type": "code",
   "execution_count": 14,
   "metadata": {},
   "outputs": [
    {
     "name": "stdout",
     "output_type": "stream",
     "text": [
      "iterations required for convergence: 22\n",
      "1.6430435918957702e-09\n"
     ]
    },
    {
     "data": {
      "image/png": "[encoded data removed]",
      "text/plain": [
       "<Figure size 432x288 with 1 Axes>"
      ]
     },
     "metadata": {
      "needs_background": "light"
     },
     "output_type": "display_data"
    }
   ],
   "source": [
    "# Setup of the problem - Assembly of matrices and vectors\n",
    "\n",
    "n = 1000 # This is the dimension of the system\n",
    "M = np.zeros(n)\n",
    "M[0] = 16\n",
    "M[1] = -5\n",
    "M[-1] = -5\n",
    "M = M/6.0\n",
    "\n",
    "N = sps.lil_matrix((n,n))\n",
    "N[0,0]=8.0; N[n-1,n-1]=8.0; N[0,-1]=-5.0; N[n-1,0]=-5.0;\n",
    "N = N/6.0\n",
    "\n",
    "A = spl.circulant(M) - N.toarray()\n",
    "# xexact = 2*np.ones(n)\n",
    "xexact = np.random.randint(1, 5, (n, 1))\n",
    "b = A@xexact\n",
    "\n",
    "# x0 = initial guess\n",
    "\n",
    "x0 = np.zeros(n)\n",
    "x, xhist = SMW_iteration(M, N, b, x0, tol = 1.e-8, maxit = 30)\n",
    "\n",
    "# print('The error is:', npl.norm(x-xexact))\n",
    "# print(get_spectral_radius(M, N))\n",
    "error = [np.linalg.norm(A@p - b) for p in xhist]\n",
    "plt.semilogy(range(1,len(xhist)+1), error)\n",
    "plt.xlabel(\"Iteration\")\n",
    "plt.ylabel(\"Norm Error\")\n",
    "plt.xlim(1, len(xhist))\n",
    "plt.title(\"SMW\")\n",
    "print(error[-1])\n",
    "# print(x)\n",
    "# print(xexact)"
   ]
  },
  {
   "cell_type": "code",
   "execution_count": 5,
   "metadata": {},
   "outputs": [
    {
     "name": "stdout",
     "output_type": "stream",
     "text": [
      "[[4.06322325 1.99011305 2.10815671 2.90875237 2.04196192]\n",
      " [1.99011305 3.06617439 0.98045613 1.50426451 2.32961624]\n",
      " [2.10815671 0.98045613 2.02392944 1.50698984 2.0474515 ]\n",
      " [2.90875237 1.50426451 1.50698984 4.39021266 2.26270087]\n",
      " [2.04196192 2.32961624 2.0474515  2.26270087 3.76053636]]\n",
      "[[1 5 4 3 2]\n",
      " [2 1 5 4 3]\n",
      " [3 2 1 5 4]\n",
      " [4 3 2 1 5]\n",
      " [5 4 3 2 1]]\n",
      "[[ 3.06322325 -3.00988695 -1.89184329 -0.09124763  0.04196192]\n",
      " [-0.00988695  2.06617439 -4.01954387 -2.49573549 -0.67038376]\n",
      " [-0.89184329 -1.01954387  1.02392944 -3.49301016 -1.9525485 ]\n",
      " [-1.09124763 -1.49573549 -0.49301016  3.39021266 -2.73729913]\n",
      " [-2.95803808 -1.67038376 -0.9525485   0.26270087  2.76053636]]\n",
      "iterations required for convergence: 100\n",
      "1.718447323614728\n"
     ]
    },
    {
     "data": {
      "text/plain": [
       "Text(0.5, 1.0, 'SMW')"
      ]
     },
     "execution_count": 5,
     "metadata": {},
     "output_type": "execute_result"
    },
    {
     "data": {
      "image/png": "[encoded data removed]",
      "text/plain": [
       "<Figure size 432x288 with 1 Axes>"
      ]
     },
     "metadata": {
      "needs_background": "light"
     },
     "output_type": "display_data"
    }
   ],
   "source": [
    "n = 5\n",
    "# A =  np.random.randint(10, size=(N, N)) + np.eye(N)\n",
    "A =  np.random.rand(n, n) + np.eye(n)\n",
    "A = A.T @ A\n",
    "\n",
    "M = sp.linalg.circulant([1, 2, 3, 4, 5])\n",
    "N = A - M\n",
    "\n",
    "# U, S, Vh = np.linalg.svd(A)\n",
    "\n",
    "# uvt = U @ Vh\n",
    "# print(U @ Vh)\n",
    "\n",
    "# M = A + uvt\n",
    "print(A)\n",
    "print(M)\n",
    "print(N)\n",
    "\n",
    "xexact = np.ones(n)\n",
    "b = A@xexact\n",
    "x0 = np.zeros(n)\n",
    "x, xhist = SMW_iteration(M[0], N, b, x0, tol = 1.e-6, maxit = 100)\n",
    "error = [np.linalg.norm(A@p - b) for p in xhist]\n",
    "\n",
    "print(get_spectral_radius(M, N))\n",
    "\n",
    "plt.semilogy(range(1,len(xhist)+1), error)\n",
    "plt.xlabel(\"Iteration\")\n",
    "plt.ylabel(\"Norm Error\")\n",
    "plt.xlim(1, len(xhist))\n",
    "plt.title(\"SMW\")"
   ]
  },
  {
   "cell_type": "code",
   "execution_count": 6,
   "metadata": {},
   "outputs": [
    {
     "ename": "TypeError",
     "evalue": "only integer scalar arrays can be converted to a scalar index",
     "output_type": "error",
     "traceback": [
      "\u001b[0;31m---------------------------------------------------------------------------\u001b[0m",
      "\u001b[0;31mTypeError\u001b[0m                                 Traceback (most recent call last)",
      "\u001b[1;32m/home/jslaby/6644/CSE6644Project/extracting_ciculant.ipynb Cell 6\u001b[0m in \u001b[0;36m<cell line: 2>\u001b[0;34m()\u001b[0m\n\u001b[1;32m      <a href='vscode-notebook-cell://wsl%2Bubuntu/home/jslaby/6644/CSE6644Project/extracting_ciculant.ipynb#W6sdnNjb2RlLXJlbW90ZQ%3D%3D?line=0'>1</a>\u001b[0m n \u001b[39m=\u001b[39m \u001b[39m5\u001b[39m\n\u001b[0;32m----> <a href='vscode-notebook-cell://wsl%2Bubuntu/home/jslaby/6644/CSE6644Project/extracting_ciculant.ipynb#W6sdnNjb2RlLXJlbW90ZQ%3D%3D?line=1'>2</a>\u001b[0m A \u001b[39m=\u001b[39m  np\u001b[39m.\u001b[39mrandom\u001b[39m.\u001b[39mrandint(\u001b[39m5\u001b[39m, size\u001b[39m=\u001b[39m(n, n)) \u001b[39m+\u001b[39m np\u001b[39m.\u001b[39;49meye(N)\n\u001b[1;32m      <a href='vscode-notebook-cell://wsl%2Bubuntu/home/jslaby/6644/CSE6644Project/extracting_ciculant.ipynb#W6sdnNjb2RlLXJlbW90ZQ%3D%3D?line=2'>3</a>\u001b[0m A \u001b[39m=\u001b[39m A\u001b[39m.\u001b[39mT \u001b[39m*\u001b[39m A\n\u001b[1;32m      <a href='vscode-notebook-cell://wsl%2Bubuntu/home/jslaby/6644/CSE6644Project/extracting_ciculant.ipynb#W6sdnNjb2RlLXJlbW90ZQ%3D%3D?line=4'>5</a>\u001b[0m \u001b[39mprint\u001b[39m(A)\n",
      "File \u001b[0;32m~/.local/lib/python3.8/site-packages/numpy/lib/twodim_base.py:215\u001b[0m, in \u001b[0;36meye\u001b[0;34m(N, M, k, dtype, order, like)\u001b[0m\n\u001b[1;32m    213\u001b[0m \u001b[39mif\u001b[39;00m M \u001b[39mis\u001b[39;00m \u001b[39mNone\u001b[39;00m:\n\u001b[1;32m    214\u001b[0m     M \u001b[39m=\u001b[39m N\n\u001b[0;32m--> 215\u001b[0m m \u001b[39m=\u001b[39m zeros((N, M), dtype\u001b[39m=\u001b[39;49mdtype, order\u001b[39m=\u001b[39;49morder)\n\u001b[1;32m    216\u001b[0m \u001b[39mif\u001b[39;00m k \u001b[39m>\u001b[39m\u001b[39m=\u001b[39m M:\n\u001b[1;32m    217\u001b[0m     \u001b[39mreturn\u001b[39;00m m\n",
      "\u001b[0;31mTypeError\u001b[0m: only integer scalar arrays can be converted to a scalar index"
     ]
    }
   ],
   "source": [
    "n = 5\n",
    "A =  np.random.randint(5, size=(n, n)) + np.eye(N)\n",
    "A = A.T * A\n",
    "\n",
    "print(A)\n",
    "e, v = np.linalg.eig(A)\n",
    "print(e)\n",
    "\n",
    "omega = np.exp(2 * np.pi * 1j / n)\n",
    "O = np.diag([omega**i for i in range(n)])\n",
    "print(omega)\n",
    "\n",
    "F = np.zeros((n,n), dtype=complex)\n",
    "for i in range(n):\n",
    "    for j in range(n):\n",
    "        F[i, j] = omega ** (i * j)\n",
    "\n",
    "F *= 1/np.sqrt(n)\n",
    "PI = F @ O @ F.conj().T\n",
    "print(abs(PI) > 1e-5)\n",
    "\n",
    "Q = np.diag(np.ones(4), 1) + np.diag(np.ones(1), -4)\n",
    "print(Q)\n",
    "print(np.linalg.matrix_power(Q,3))"
   ]
  },
  {
   "cell_type": "code",
   "execution_count": null,
   "metadata": {},
   "outputs": [
    {
     "name": "stdout",
     "output_type": "stream",
     "text": [
      "[26.00205129223615, 20.00274810126805, 32.00189941113213, 24.002193566105294, 24.002355690944608, 24.002563108799222, 32.00173604074932, 20.00258372634256, 26.00238172985926, 61.00238037126625]\n",
      "iterations required for convergence: 100\n",
      "1.999999995868941\n"
     ]
    },
    {
     "data": {
      "text/plain": [
       "Text(0.5, 1.0, 'SMW')"
      ]
     },
     "execution_count": 535,
     "metadata": {},
     "output_type": "execute_result"
    },
    {
     "data": {
      "image/png": "[encoded data removed]",
      "text/plain": [
       "<Figure size 432x288 with 1 Axes>"
      ]
     },
     "metadata": {
      "needs_background": "light"
     },
     "output_type": "display_data"
    }
   ],
   "source": [
    "n = 10\n",
    "# A =  np.random.randint(10, size=(n, n)) + np.eye(n)\n",
    "# A = A.T * A\n",
    "\n",
    "A = sp.linalg.circulant(np.random.randint(5, size=(n, 1)))\n",
    "A = A.T @ A\n",
    "pertubation = 0.01*np.random.rand(n, 1) @ np.random.rand(n, 1).T\n",
    "# print(A)\n",
    "A = A + pertubation\n",
    "# A[0,0] = 1\n",
    "# A[n-1,0] = 1\n",
    "# A[0,n-1] = 1\n",
    "# A[n-1,n-1] = 1\n",
    "\n",
    "# print(pertubation)\n",
    "# print(A)\n",
    "Q = np.diag(np.ones(n-1), 1) + np.diag(np.ones(1), 1-n)\n",
    "# print(Q)\n",
    "# print(np.linalg.matrix_power(Q,3))\n",
    "# print(A)\n",
    "c = [np.trace(A.T @ np.linalg.matrix_power(Q,i))/n for i in range(1, n+1)]\n",
    "print(c)\n",
    "\n",
    "M = sp.linalg.circulant(c)\n",
    "N = A - M\n",
    "\n",
    "# print(A)\n",
    "# print(M)\n",
    "# print(N)\n",
    "\n",
    "xexact = np.ones(n)\n",
    "b = A@xexact\n",
    "x0 = np.zeros(n)\n",
    "x, xhist = SMW_iteration(M[0], N, b, x0, tol = 1.e-6, maxit = 100)\n",
    "error = [np.linalg.norm(A@p - b) for p in xhist]\n",
    "\n",
    "print(get_spectral_radius(M, N))\n",
    "\n",
    "plt.semilogy(range(1,len(xhist)+1), error)\n",
    "plt.xlabel(\"Iteration\")\n",
    "plt.ylabel(\"Norm Error\")\n",
    "plt.xlim(1, len(xhist))\n",
    "plt.title(\"SMW\")"
   ]
  },
  {
   "cell_type": "code",
   "execution_count": 878,
   "metadata": {},
   "outputs": [
    {
     "name": "stdout",
     "output_type": "stream",
     "text": [
      "Circulant Basis: [2.25, 2.0, 2.0, 0.25]\n",
      "svd: [2.61638831 2.48517474 0.67987343 0.12724342]\n",
      "Lemma 2.1\n",
      "40.25\n",
      "40.24999999999997\n",
      "\n",
      "Theorem 2.1\n",
      "Spectral Radius = 0.5019061405325438\n",
      "eigenvalues = [-0.24216049+0.43962264j -0.24216049-0.43962264j  0.30279851+0.j\n",
      "  0.18152247+0.j        ]\n",
      "first det =  0.14339382662929998\n",
      "second det =  0.1433938266293001\n",
      "third det =  0.0015620562261785163 91.79812110867813 0.14339382662930017\n",
      "fourth det =  0.0015620562261785163 2.2596460580597673 40.62499999999998 0.14339382662929995\n",
      "fifth det =  0.1433938266293001\n",
      "Compare eigs: [-0.24216049-0.43962264j -0.24216049+0.43962264j  0.18152247+0.j\n",
      "  0.30279851+0.j        ], [-0.24216049-0.43962264j -0.24216049+0.43962264j  0.18152247+0.j\n",
      "  0.30279851+0.j        ]\n",
      "spectral radius A: 6.142832885235146\n",
      "spectral radius Minv N: 0.5019061405325438\n",
      "spectrum: [0.0967411 -1.71001913j 0.0967411 +1.71001913j 2.66368491+0.j\n",
      " 6.14283289+0.j        ]\n",
      "\n",
      "Spectral Radius of G: 0.5019061405325438\n",
      "[[ 0.80590062 -0.25465839 -0.78881988  1.00465839]\n",
      " [ 0.00465839  0.5621118   0.85093168 -0.8121118 ]\n",
      " [ 0.11024845  0.13664596  0.97204969  0.11335404]\n",
      " [ 0.21273292  0.50310559 -0.80745342  1.74689441]]\n"
     ]
    }
   ],
   "source": [
    "# Generate A\n",
    "n = 4\n",
    "A = np.random.randint(5, size=(n, n)) + np.eye(n)\n",
    "# A = np.random.rand(n, n) \n",
    "# A = sp.linalg.circulant(np.random.randint(5, size=(n, 1)))\n",
    "# A = A.T @ A\n",
    "# pertubation = 0.01*np.random.rand(n, 1) @ np.random.rand(n, 1).T\n",
    "# A = A + pertubation\n",
    "\n",
    "\n",
    "# Calculate how close it is to circulant\n",
    "Q = np.diag(np.ones(n-1), 1) + np.diag(np.ones(1), 1-n)\n",
    "c = [np.trace(A.T @ np.linalg.matrix_power(Q,i))/n for i in range(1, n+1)]\n",
    "d = [c[(i-1) % n] for i in range(n)]\n",
    "print(f\"Circulant Basis: {d}\")\n",
    "M = sp.linalg.circulant(d).T\n",
    "N = A - M\n",
    "\n",
    "# print(A)\n",
    "# print(M)\n",
    "# print(N)\n",
    "\n",
    "\n",
    "# Calculate UV^T\n",
    "U, S, Vh = np.linalg.svd(N)\n",
    "U = U @ np.diag(S)\n",
    "print(f\"svd: {S}\")\n",
    "\n",
    "Minv = np.linalg.inv(M)\n",
    "\n",
    "### Proving Lemma 2.1 - It works\n",
    "print(\"Lemma 2.1\")\n",
    "print(np.linalg.det(M - U @ Vh))\n",
    "print(np.linalg.det(np.eye(n) - Vh @ Minv @ U ) * np.linalg.det(M))\n",
    "\n",
    "### Proving theorem 2.1\n",
    "D, V = np.linalg.eig(Minv @ N)\n",
    "rho = max(abs(D))\n",
    "print(\"\\nTheorem 2.1\")\n",
    "print(f\"Spectral Radius = {rho}\")\n",
    "print(f\"eigenvalues = {D}\")\n",
    "eig1 = -rho\n",
    "\n",
    "det1 = np.linalg.det(Minv @ N - eig1 * np.eye(n))\n",
    "print(\"first det = \", det1) # Correctly 0\n",
    "\n",
    "det2 = np.linalg.det(Minv @ U @ Vh - eig1 * np.eye(n))\n",
    "print(\"second det = \", det2) # Correctly 0\n",
    "\n",
    "det3 = np.linalg.det(-eig1 * Minv) \n",
    "det4 = np.linalg.det(M - U @ Vh / eig1)\n",
    "det5 = det3 * det4\n",
    "print(\"third det = \", det3, det4, det5) # Correctly 0\n",
    "\n",
    "det6 = np.linalg.det(-eig1 * Minv) \n",
    "det7 = np.linalg.det(np.eye(n) - Vh @ Minv @ U / eig1)\n",
    "det8 = np.linalg.det(M)\n",
    "det9 = det6 * det7 *det8\n",
    "print(\"fourth det = \", det6, det7, det8, det9) # Correctly 0\n",
    "\n",
    "det10 = np.linalg.det(Vh @ Minv @ U - eig1 * np.eye(n))\n",
    "print(\"fifth det = \", det10) # Correctly 0\n",
    "\n",
    "D2, V2 = np.linalg.eig(Vh @ Minv @ U)\n",
    "print(f\"Compare eigs: {np.sort(D)}, {np.sort(D2)}\")\n",
    "\n",
    "Da, Va = np.linalg.eig(A)\n",
    "print(f\"spectral radius A: {np.max(np.abs(Da))}\")\n",
    "print(f\"spectral radius Minv N: {np.max(np.abs(D))}\")\n",
    "\n",
    "print(f\"spectrum: {np.sort(Da)}\")\n",
    "\n",
    "# iteration matrix properties\n",
    "G = Minv @ N\n",
    "Grho = rho\n",
    "print()\n",
    "print(f\"Spectral Radius of G: {Grho}\")\n",
    "\n",
    "print(np.linalg.inv(np.eye(n) - G))"
   ]
  },
  {
   "cell_type": "code",
   "execution_count": 887,
   "metadata": {},
   "outputs": [
    {
     "data": {
      "text/plain": [
       "Text(0.5, 1.0, 'SMW')"
      ]
     },
     "execution_count": 887,
     "metadata": {},
     "output_type": "execute_result"
    },
    {
     "data": {
      "image/png": "[encoded data removed]",
      "text/plain": [
       "<Figure size 432x288 with 1 Axes>"
      ]
     },
     "metadata": {
      "needs_background": "light"
     },
     "output_type": "display_data"
    }
   ],
   "source": [
    "# Case 1\n",
    "# b = np.random.randint(1, 5, (n, 1))\n",
    "b = np.random.rand(n, 1)\n",
    "xexact = np.linalg.solve(A, b)\n",
    "\n",
    "# Case 2\n",
    "# xexact = np.ones(n)\n",
    "# xexact = np.random.randint(1, 5, (n, 1))\n",
    "# b = A @ xexact\n",
    "\n",
    "# initialize\n",
    "iters = 0\n",
    "xhist = []\n",
    "err = []\n",
    "x = np.zeros(shape=(4,1))\n",
    "# x = np.random.rand(n)\n",
    "\n",
    "# iterate\n",
    "for i in range(100):\n",
    "    c = N @ x + b\n",
    "    xnew = spl.solve_circulant(M[:,0],c)\n",
    "    xhist.append(xnew)\n",
    "    err.append(npl.norm(A @ xnew - b))\n",
    "    x = np.copy(xnew)\n",
    "\n",
    "# plot\n",
    "plt.semilogy(range(1,len(xhist)+1), err)\n",
    "plt.xlabel(\"Iteration\")\n",
    "plt.ylabel(\"Norm Error\")\n",
    "plt.xlim(1, len(xhist))\n",
    "plt.title(\"SMW\")"
   ]
  },
  {
   "cell_type": "code",
   "execution_count": 708,
   "metadata": {},
   "outputs": [
    {
     "name": "stdout",
     "output_type": "stream",
     "text": [
      "[[  9.   2.   6.   1.]\n",
      " [ -4.   7.   4.   9.]\n",
      " [-10.   3.   3.  -8.]\n",
      " [  6.  -5.  -4.  -8.]]\n",
      "Circulant Basis: [-8.0, -8.0, -10.0, -4.0]\n",
      "[[7. 1. 1. 2.]\n",
      " [2. 7. 1. 1.]\n",
      " [1. 2. 7. 1.]\n",
      " [1. 1. 2. 7.]]\n",
      "[[ 0.15380835 -0.01375921 -0.00835381 -0.04078624]\n",
      " [-0.04078624  0.15380835 -0.01375921 -0.00835381]\n",
      " [-0.00835381 -0.04078624  0.15380835 -0.01375921]\n",
      " [-0.01375921 -0.00835381 -0.04078624  0.15380835]]\n",
      "[[  2.   1.   5.  -1.]\n",
      " [ -6.   0.   3.   8.]\n",
      " [-11.   1.  -4.  -9.]\n",
      " [  5.  -6.  -6. -15.]]\n"
     ]
    }
   ],
   "source": [
    "# Generate A\n",
    "n = 4\n",
    "A = np.random.randint(-10, 10, size=(n, n)) + np.eye(n)\n",
    "# A = np.random.rand(n, n) \n",
    "# A = sp.linalg.circulant(np.random.randint(5, size=(n, 1)))\n",
    "# A = A.T @ A\n",
    "# pertubation = 0.01*np.random.rand(n, 1) @ np.random.rand(n, 1).T\n",
    "# A = A + pertubation\n",
    "print(A)\n",
    "\n",
    "###########\n",
    "## Calculate how close it is to circulant\n",
    "## Method 1\n",
    "# Q = np.diag(np.ones(n-1), 1) + np.diag(np.ones(1), 1-n)\n",
    "# c = [np.trace(A.T @ np.linalg.matrix_power(Q,i))/n for i in range(1, n+1)]\n",
    "# d = [c[(i-1) % n] for i in range(n)]\n",
    "# print(f\"Circulant Basis: {np.sort(d)}\")\n",
    "\n",
    "# Method 2: Ensures Minv is nonnegative\n",
    "Q = np.diag(np.ones(n-1), 1) + np.diag(np.ones(1), 1-n)\n",
    "c = [np.min((A * np.linalg.matrix_power(Q,i)) @ np.ones((4,1))) for i in range(1, n)]\n",
    "c.insert(0, np.min(np.diag(A)))\n",
    "print(f\"Circulant Basis: {c}\")\n",
    "\n",
    "###############\n",
    "M = sp.linalg.circulant(d)\n",
    "N = A - M\n",
    "\n",
    "print(M)\n",
    "print(np.linalg.inv(M))\n",
    "print(N)"
   ]
  },
  {
   "cell_type": "code",
   "execution_count": 889,
   "metadata": {},
   "outputs": [
    {
     "name": "stdout",
     "output_type": "stream",
     "text": [
      "initial c: [[4 5 8 1]]\n",
      "\n",
      "initial A: \n",
      "[[4 5 8 1]\n",
      " [1 4 5 8]\n",
      " [8 1 4 5]\n",
      " [5 8 1 4]] \n",
      "\n",
      "estimated eigs\n",
      "i = 0, eig = (18+0j)\n",
      "i = 1, eig = (-4+4.000000000000001j)\n",
      "i = 2, eig = (6-9.797174393178828e-16j)\n",
      "i = 3, eig = (-4-3.9999999999999973j)\n",
      "\n",
      "calculated eigs:[18.+0.j  6.+0.j -4.+4.j -4.-4.j] \n",
      "\n",
      "[[18.+0.00000000e+00j]\n",
      " [-4.+4.00000000e+00j]\n",
      " [ 6.-9.79717439e-16j]\n",
      " [-4.-4.00000000e+00j]]\n",
      "[4.-1.40865331e-15j 5.+1.85475275e-15j 8.+2.54671001e-16j\n",
      " 1.-8.84467457e-16j]\n",
      "\n",
      "[ 0.46020416+0.60333206j  0.22756798+0.01967882j -0.01735467+0.13729526j\n",
      " -0.12416118-0.18442942j]\n"
     ]
    }
   ],
   "source": [
    "# How can we construct a circulant matrix with a given set of eigenvalues\n",
    "\n",
    "# Make an example circulant matrix and see if we can reconstruct the eigenvalues\n",
    "n = 4\n",
    "c = np.random.randint(1,10, size=(1,n))\n",
    "print(f\"initial c: {c}\\n\")\n",
    "A = sp.linalg.circulant(c).T\n",
    "print(f\"initial A: \\n{A} \\n\")\n",
    "\n",
    "est_eig_A = []\n",
    "omega = [np.exp(2 * np.pi * 1j * i/ n) for i in range(n)]\n",
    "print(\"estimated eigs\")\n",
    "for i in range(n):\n",
    "    est_eig_A.append(np.sum(c * [o ** i for o in omega]))\n",
    "    print(f\"i = {i}, eig = {est_eig_A[-1]}\")\n",
    "\n",
    "d, v = np.linalg.eig(A)\n",
    "print(f\"\\ncalculated eigs:{d} \\n\")\n",
    "# print(np.sort(d))\n",
    "\n",
    "\n",
    "# Generate the eigenvectors\n",
    "omega = np.exp(2 * np.pi * 1j / n)\n",
    "O = np.diag([omega**i for i in range(n)])\n",
    "# print(omega)\n",
    "\n",
    "F = np.zeros((n,n), dtype=complex)\n",
    "for i in range(n):\n",
    "    for j in range(n):\n",
    "        F[i, j] = omega ** (i * j)\n",
    "\n",
    "# Correctly recreates eigenvalues\n",
    "print(F @ c.T)\n",
    "\n",
    "# Correctly recreates the circulant matrix\n",
    "print(np.linalg.inv(F) @ est_eig_A)\n",
    "\n",
    "cp = np.random.rand(4)\n",
    "cp = [i + np.sqrt(1 - i **2) * np.random.rand(1)[0] * 1j for i in cp]\n",
    "\n",
    "print()\n",
    "print(np.linalg.inv(F) @ cp)"
   ]
  },
  {
   "cell_type": "code",
   "execution_count": 925,
   "metadata": {},
   "outputs": [
    {
     "name": "stdout",
     "output_type": "stream",
     "text": [
      "[[4 5 8 1]\n",
      " [1 4 5 8]\n",
      " [8 1 4 5]\n",
      " [5 8 1 4]]\n",
      "[[-0.00694444 -0.09027778  0.11805556  0.03472222]\n",
      " [ 0.03472222 -0.00694444 -0.09027778  0.11805556]\n",
      " [ 0.11805556  0.03472222 -0.00694444 -0.09027778]\n",
      " [-0.09027778  0.11805556  0.03472222 -0.00694444]]\n",
      "[[-0.00694444-3.46944695e-18j -0.09027778-1.32818306e-17j\n",
      "   0.11805556-2.55134750e-17j  0.03472222-2.26463720e-18j]\n",
      " [ 0.03472222-1.04083409e-17j -0.00694444-1.74030744e-17j\n",
      "  -0.09027778+1.51051341e-17j  0.11805556-2.91643398e-18j]\n",
      " [ 0.11805556+2.42861287e-17j  0.03472222-1.37027568e-17j\n",
      "  -0.00694444-1.83619891e-18j -0.09027778+2.73217541e-17j]\n",
      " [-0.09027778-3.81639165e-17j  0.11805556+3.66777797e-17j\n",
      "   0.03472222+1.91834337e-17j -0.00694444+1.37445756e-18j]]\n"
     ]
    }
   ],
   "source": [
    "print(A)\n",
    "print(np.linalg.inv(A))\n",
    "\n",
    "D = np.diag(fft(A[0,:]))\n",
    "Ainv = np.linalg.inv(F).T @ np.linalg.inv(D) @ F.T\n",
    "print(Ainv)\n",
    "\n"
   ]
  }
 ],
 "metadata": {
  "kernelspec": {
   "display_name": "base",
   "language": "python",
   "name": "python3"
  },
  "language_info": {
   "codemirror_mode": {
    "name": "ipython",
    "version": 3
   },
   "file_extension": ".py",
   "mimetype": "text/x-python",
   "name": "python",
   "nbconvert_exporter": "python",
   "pygments_lexer": "ipython3",
   "version": "3.8.3"
  }
 },
 "nbformat": 4,
 "nbformat_minor": 2
}
