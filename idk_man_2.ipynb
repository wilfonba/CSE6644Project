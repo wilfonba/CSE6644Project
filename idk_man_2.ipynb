{
 "cells": [
  {
   "cell_type": "code",
   "execution_count": 194,
   "metadata": {},
   "outputs": [
    {
     "name": "stdout",
     "output_type": "stream",
     "text": [
      "The autoreload extension is already loaded. To reload it, use:\n",
      "  %reload_ext autoreload\n"
     ]
    }
   ],
   "source": [
    "%load_ext autoreload\n",
    "%autoreload 2"
   ]
  },
  {
   "cell_type": "code",
   "execution_count": 195,
   "metadata": {},
   "outputs": [],
   "source": [
    "import numpy as np\n",
    "import scipy as sp\n",
    "import scipy.sparse as sps\n",
    "import scipy.sparse.linalg as spsl\n",
    "import numpy.linalg as npl\n",
    "import scipy.linalg as spl\n",
    "import pandas as pd\n",
    "from numpy.fft import fft, ifft, fft2\n",
    "from matplotlib import pyplot as plt\n",
    "from pprint import pprint\n",
    "from matrix_splitting import get_N, circ_first_col, circ_base_norm, circ_max, circ_min\n"
   ]
  },
  {
   "cell_type": "code",
   "execution_count": 209,
   "metadata": {},
   "outputs": [],
   "source": [
    "def SMW_iteration(A, M, N, b, x, tol = 1.e-5, maxit = 1000):\n",
    "    # M, N : matrices such as A = M - N\n",
    "    # M : is the first column of the circulant matrix M\n",
    "    # N : is the sparse matrix N\n",
    "    # x : guess of the solution\n",
    "    if len(M.shape) == 1:\n",
    "        M = spl.circulant(M)\n",
    "\n",
    "    assert np.allclose(A, M-N), \"A is not M minus N, A=\\n{}, M =\\n{} M-N =\\n{}, N=\\n{}\".format(A,M, M-N,N)\n",
    "    err = 1.0\n",
    "    iters = 0\n",
    "    xhist = []\n",
    "    while (err > tol and iters < maxit):\n",
    "        iters += 1\n",
    "        r = N@x+b\n",
    "        xnew = spl.solve_circulant(M,r)\n",
    "        err = npl.norm(A @ xnew - b)\n",
    "        x = np.copy(xnew)\n",
    "        xhist.append(x)\n",
    "        \n",
    "    # print('iterations required for convergence:', iters)\n",
    "    \n",
    "    return x, xhist\n",
    "\n",
    "\n",
    "def get_spectral_radius(M:np.ndarray, N:np.ndarray):\n",
    "    if len(M.shape) == 1:\n",
    "        M = spl.circulant(M)\n",
    "    Minv = np.linalg.inv(M)\n",
    "    G = Minv @ N\n",
    "    D, V = np.linalg.eig(G)\n",
    "    rho = max(abs(D))\n",
    "    return rho"
   ]
  },
  {
   "cell_type": "code",
   "execution_count": 210,
   "metadata": {},
   "outputs": [
    {
     "name": "stdout",
     "output_type": "stream",
     "text": [
      "1000\n",
      "1000\n",
      "1000\n",
      "1000\n"
     ]
    },
    {
     "ename": "KeyboardInterrupt",
     "evalue": "",
     "output_type": "error",
     "traceback": [
      "\u001b[0;31m---------------------------------------------------------------------------\u001b[0m",
      "\u001b[0;31mKeyboardInterrupt\u001b[0m                         Traceback (most recent call last)",
      "\u001b[1;32m/Users/adampatni/Documents/GitHub/CSE6644/CSE6644Project/idk_man.ipynb Cell 4\u001b[0m line \u001b[0;36m1\n\u001b[1;32m      <a href='vscode-notebook-cell:/Users/adampatni/Documents/GitHub/CSE6644/CSE6644Project/idk_man.ipynb#X14sZmlsZQ%3D%3D?line=8'>9</a>\u001b[0m \u001b[39mfor\u001b[39;00m i \u001b[39min\u001b[39;00m \u001b[39mrange\u001b[39m(mtxs\u001b[39m.\u001b[39mshape[\u001b[39m0\u001b[39m]):\n\u001b[1;32m     <a href='vscode-notebook-cell:/Users/adampatni/Documents/GitHub/CSE6644/CSE6644Project/idk_man.ipynb#X14sZmlsZQ%3D%3D?line=9'>10</a>\u001b[0m     \u001b[39mfor\u001b[39;00m mtx_splitting_method \u001b[39min\u001b[39;00m mtx_splitting_methods:\n\u001b[0;32m---> <a href='vscode-notebook-cell:/Users/adampatni/Documents/GitHub/CSE6644/CSE6644Project/idk_man.ipynb#X14sZmlsZQ%3D%3D?line=10'>11</a>\u001b[0m         M \u001b[39m=\u001b[39m mtx_splitting_method(mtxs[i])\n\u001b[1;32m     <a href='vscode-notebook-cell:/Users/adampatni/Documents/GitHub/CSE6644/CSE6644Project/idk_man.ipynb#X14sZmlsZQ%3D%3D?line=11'>12</a>\u001b[0m         N \u001b[39m=\u001b[39m get_N(mtxs[i], M)\n\u001b[1;32m     <a href='vscode-notebook-cell:/Users/adampatni/Documents/GitHub/CSE6644/CSE6644Project/idk_man.ipynb#X14sZmlsZQ%3D%3D?line=12'>13</a>\u001b[0m         rho \u001b[39m=\u001b[39m get_spectral_radius(M, N)\n",
      "File \u001b[0;32m~/Documents/GitHub/CSE6644/CSE6644Project/matrix_splitting.py:15\u001b[0m, in \u001b[0;36mcirc_base_norm\u001b[0;34m(A, omega)\u001b[0m\n\u001b[1;32m     13\u001b[0m n \u001b[39m=\u001b[39m \u001b[39mlen\u001b[39m(A)\n\u001b[1;32m     14\u001b[0m Q \u001b[39m=\u001b[39m np\u001b[39m.\u001b[39mdiag(np\u001b[39m.\u001b[39mones(n\u001b[39m-\u001b[39m\u001b[39m1\u001b[39m), \u001b[39m1\u001b[39m) \u001b[39m+\u001b[39m np\u001b[39m.\u001b[39mdiag(np\u001b[39m.\u001b[39mones(\u001b[39m1\u001b[39m), \u001b[39m1\u001b[39m\u001b[39m-\u001b[39mn)\n\u001b[0;32m---> 15\u001b[0m d \u001b[39m=\u001b[39m [\u001b[39m1\u001b[39m\u001b[39m/\u001b[39momega \u001b[39m*\u001b[39m np\u001b[39m.\u001b[39mtrace(A\u001b[39m.\u001b[39mT \u001b[39m@\u001b[39m np\u001b[39m.\u001b[39mlinalg\u001b[39m.\u001b[39mmatrix_power(Q,i))\u001b[39m/\u001b[39mn \u001b[39mfor\u001b[39;00m i \u001b[39min\u001b[39;00m \u001b[39mrange\u001b[39m(\u001b[39m1\u001b[39m, n\u001b[39m+\u001b[39m\u001b[39m1\u001b[39m)]\n\u001b[1;32m     16\u001b[0m c \u001b[39m=\u001b[39m [d[(i\u001b[39m-\u001b[39m\u001b[39m1\u001b[39m) \u001b[39m%\u001b[39m n] \u001b[39mfor\u001b[39;00m i \u001b[39min\u001b[39;00m \u001b[39mrange\u001b[39m(n)]\n\u001b[1;32m     17\u001b[0m \u001b[39mreturn\u001b[39;00m np\u001b[39m.\u001b[39masarray(c)\n",
      "File \u001b[0;32m~/Documents/GitHub/CSE6644/CSE6644Project/matrix_splitting.py:15\u001b[0m, in \u001b[0;36m<listcomp>\u001b[0;34m(.0)\u001b[0m\n\u001b[1;32m     13\u001b[0m n \u001b[39m=\u001b[39m \u001b[39mlen\u001b[39m(A)\n\u001b[1;32m     14\u001b[0m Q \u001b[39m=\u001b[39m np\u001b[39m.\u001b[39mdiag(np\u001b[39m.\u001b[39mones(n\u001b[39m-\u001b[39m\u001b[39m1\u001b[39m), \u001b[39m1\u001b[39m) \u001b[39m+\u001b[39m np\u001b[39m.\u001b[39mdiag(np\u001b[39m.\u001b[39mones(\u001b[39m1\u001b[39m), \u001b[39m1\u001b[39m\u001b[39m-\u001b[39mn)\n\u001b[0;32m---> 15\u001b[0m d \u001b[39m=\u001b[39m [\u001b[39m1\u001b[39m\u001b[39m/\u001b[39momega \u001b[39m*\u001b[39m np\u001b[39m.\u001b[39mtrace(A\u001b[39m.\u001b[39mT \u001b[39m@\u001b[39m np\u001b[39m.\u001b[39mlinalg\u001b[39m.\u001b[39mmatrix_power(Q,i))\u001b[39m/\u001b[39mn \u001b[39mfor\u001b[39;00m i \u001b[39min\u001b[39;00m \u001b[39mrange\u001b[39m(\u001b[39m1\u001b[39m, n\u001b[39m+\u001b[39m\u001b[39m1\u001b[39m)]\n\u001b[1;32m     16\u001b[0m c \u001b[39m=\u001b[39m [d[(i\u001b[39m-\u001b[39m\u001b[39m1\u001b[39m) \u001b[39m%\u001b[39m n] \u001b[39mfor\u001b[39;00m i \u001b[39min\u001b[39;00m \u001b[39mrange\u001b[39m(n)]\n\u001b[1;32m     17\u001b[0m \u001b[39mreturn\u001b[39;00m np\u001b[39m.\u001b[39masarray(c)\n",
      "File \u001b[0;32m<__array_function__ internals>:200\u001b[0m, in \u001b[0;36mmatrix_power\u001b[0;34m(*args, **kwargs)\u001b[0m\n",
      "File \u001b[0;32m~/anaconda3/lib/python3.11/site-packages/numpy/linalg/linalg.py:655\u001b[0m, in \u001b[0;36mmatrix_power\u001b[0;34m(a, n)\u001b[0m\n\u001b[1;32m    653\u001b[0m \u001b[39mwhile\u001b[39;00m n \u001b[39m>\u001b[39m \u001b[39m0\u001b[39m:\n\u001b[1;32m    654\u001b[0m     z \u001b[39m=\u001b[39m a \u001b[39mif\u001b[39;00m z \u001b[39mis\u001b[39;00m \u001b[39mNone\u001b[39;00m \u001b[39melse\u001b[39;00m fmatmul(z, z)\n\u001b[0;32m--> 655\u001b[0m     n, bit \u001b[39m=\u001b[39m \u001b[39mdivmod\u001b[39m(n, \u001b[39m2\u001b[39m)\n\u001b[1;32m    656\u001b[0m     \u001b[39mif\u001b[39;00m bit:\n\u001b[1;32m    657\u001b[0m         result \u001b[39m=\u001b[39m z \u001b[39mif\u001b[39;00m result \u001b[39mis\u001b[39;00m \u001b[39mNone\u001b[39;00m \u001b[39melse\u001b[39;00m fmatmul(result, z)\n",
      "\u001b[0;31mKeyboardInterrupt\u001b[0m: "
     ]
    }
   ],
   "source": [
    "mtx_types = [\"nonnegative_matrices\", \"positive_matrices\", \"random_distribution_matrices\", \"symmetric_matrices\", \"spd_matrices\"]\n",
    "# mtx_splitting_methods = [ circ_first_col]\n",
    "mtx_splitting_methods = [ circ_first_col, circ_base_norm, circ_max, circ_min]\n",
    "\n",
    "data = []\n",
    "for mtx_type in mtx_types:\n",
    "    mtxs = np.load(f'matrices/{mtx_type}.npy')\n",
    "    print(mtxs.shape[0])\n",
    "    for i in range(mtxs.shape[0]):\n",
    "        for mtx_splitting_method in mtx_splitting_methods:\n",
    "            M = mtx_splitting_method(mtxs[i])\n",
    "            N = get_N(mtxs[i], M)\n",
    "            rho = get_spectral_radius(M, N)\n",
    "            # print(M.shape, N.shape)\n",
    "            iterations = -1\n",
    "            err = -1\n",
    "            if rho < 1:\n",
    "                x, xhist = SMW_iteration(mtxs[i], M, N, np.ones(M.shape[0]), np.zeros(M.shape[0]))\n",
    "                iterations = len(xhist)\n",
    "                err = npl.norm(mtxs[i]@x - np.ones(M.shape[0]))\n",
    "            data.append({'matrix': mtx_type, 'i': i, 'method': mtx_splitting_method.__name__, 'rho': rho, 'iterations': iterations, 'err': err})\n",
    "\n",
    "\n",
    "df = pd.DataFrame(data, columns=['matrix', 'i', 'method', 'rho', 'iterations', 'err'])\n",
    "df.sort_values(by=['matrix', 'i', 'method'], inplace=True)\n"
   ]
  },
  {
   "cell_type": "code",
   "execution_count": 203,
   "metadata": {},
   "outputs": [],
   "source": [
    "df.sort_values(by=['method'], inplace=True)\n",
    "\n",
    "df_grouped = df.groupby(['matrix', 'method'])['rho'].median().reset_index()\n",
    "pivot_df = df_grouped.pivot(index='method', columns='matrix', values='rho')\n",
    "grouped = df.groupby(['matrix', 'method'])\n",
    "\n",
    "boxplots = {}\n",
    "# Iterating over each group to create individual boxplots\n",
    "for (method, matrix), group in grouped:\n",
    "    boxplots[(method, matrix)] = group['rho'].values"
   ]
  },
  {
   "cell_type": "code",
   "execution_count": 208,
   "metadata": {},
   "outputs": [
    {
     "data": {
      "image/png": "[encoded data removed]",
      "text/plain": [
       "<Figure size 640x480 with 2 Axes>"
      ]
     },
     "metadata": {},
     "output_type": "display_data"
    }
   ],
   "source": [
    "fig, ax = plt.subplots()\n",
    "\n",
    "ax2 = ax.twinx()\n",
    "# Number of matrix types\n",
    "num_matrix_types = len(pivot_df.columns)\n",
    "# Width of each bar\n",
    "bar_width = 0.8 / num_matrix_types\n",
    "# Iterate over each matrix type to plot\n",
    "for i, matrix_type in enumerate(pivot_df.columns):\n",
    "    # Compute the positions for the bars\n",
    "    bar_positions = np.arange(len(pivot_df)) + i * bar_width\n",
    "\n",
    "    # Plotting\n",
    "    ax.bar(bar_positions, pivot_df[matrix_type], width=bar_width, label=matrix_type)\n",
    "    # ax.boxplot\n",
    "    for j, method in enumerate(pivot_df.index):\n",
    "        # Fetching the position for the current box plot\n",
    "        box_pos = bar_positions[j]\n",
    "        # Fetching the corresponding 'rho' values from boxplots dictionary\n",
    "        if (matrix_type, method) in boxplots:\n",
    "            rho_values = boxplots[(matrix_type, method)]\n",
    "            # Adding a box plot for this specific data\n",
    "            ax2.boxplot(rho_values, positions=[box_pos], widths=bar_width/2, manage_ticks=False, showfliers=False, meanline=True)\n",
    "\n",
    "# Adjusting the x-axis to correctly align labels in the center of the group\n",
    "ax.set_xticks(np.arange(len(pivot_df)) + bar_width * (num_matrix_types - 1) / 2)\n",
    "ax.set_xticklabels(pivot_df.index)\n",
    "\n",
    "# Other plot settings\n",
    "plt.rcParams['text.usetex'] = True\n",
    "ax.axhline(y=1, color='r', linestyle='--')\n",
    "ax.set_yscale('log')\n",
    "ax2.set_yscale('log')\n",
    "ax.set_ylim(.1,100)\n",
    "ax2.set_ylim(.1,100)\n",
    "ax.set_xlabel('Method')\n",
    "ax.set_ylabel(r'$\\bar{\\rho}({M}^{-1}N)$')\n",
    "# ax.set_title(r'$\\bar{\\rho}({M}^{-1}N)$ by Method for each Matrix Type')\n",
    "ax.legend(title='Matrix', loc='lower right', bbox_to_anchor=(1,1))\n",
    "plt.tight_layout()\n",
    "plt.show()\n"
   ]
  },
  {
   "cell_type": "code",
   "execution_count": 36,
   "metadata": {},
   "outputs": [
    {
     "name": "stdout",
     "output_type": "stream",
     "text": [
      "0.8653626672397958\n"
     ]
    },
    {
     "data": {
      "text/plain": [
       "[<matplotlib.lines.Line2D at 0x7fceafcd8fd0>]"
      ]
     },
     "execution_count": 36,
     "metadata": {},
     "output_type": "execute_result"
    },
    {
     "data": {
      "image/png": "[encoded data removed]",
      "text/plain": [
       "<Figure size 640x480 with 1 Axes>"
      ]
     },
     "metadata": {},
     "output_type": "display_data"
    }
   ],
   "source": [
    "# Investigate SOR parameter omega on the spectral radius\n",
    "\n",
    "n = 4\n",
    "# A = np.random.randint(5, size=(n, n))\n",
    "A = np.random.rand(n, n)\n",
    "A = A.T @ A\n",
    "# Calculate how close it is to circulant\n",
    "omegas = np.logspace(-5, 0, 10)\n",
    "spectral = []\n",
    "for omega in omegas:\n",
    "    c = circ_base_norm(A, omega)\n",
    "    # print(f\"Circulant Basis: {d}\")\n",
    "\n",
    "    M = sp.linalg.circulant(c).T\n",
    "    N = M - A\n",
    "\n",
    "    Minv = np.linalg.inv(M)\n",
    "    G = Minv @ N\n",
    "    d, v = np.linalg.eig(G)\n",
    "\n",
    "    spectral.append(np.max(np.abs(d)))\n",
    "\n",
    "print(np.min(spectral))\n",
    "omega = np.argmin(spectral)\n",
    "c = circ_base_norm(A, omegas[omega])\n",
    "plt.loglog(omegas, spectral)"
   ]
  },
  {
   "cell_type": "code",
   "execution_count": 370,
   "metadata": {},
   "outputs": [
    {
     "name": "stdout",
     "output_type": "stream",
     "text": [
      "[[-0.4  0.1 -0.1  0.6]\n",
      " [-0.   0.1 -0.4 -0.3]\n",
      " [-0.7  0.3 -0.5  0.3]\n",
      " [-0.4 -0.1 -0.1 -0.7]]\n",
      "[[-0.4  0.1 -0.1  0.6]\n",
      " [-0.   0.1 -0.4 -0.3]\n",
      " [-0.7  0.3 -0.5  0.3]\n",
      " [-0.4 -0.1 -0.1 -0.7]]\n",
      "0.8926142457898658\n",
      "0.8926142457898667\n"
     ]
    }
   ],
   "source": [
    "# Investigate making top row the circulant matrix\n",
    "\n",
    "n = 4\n",
    "spectral = 2\n",
    "ctr = 0\n",
    "while (spectral > 1) and (ctr <= 1000):\n",
    "    # flag = True\n",
    "    # while flag:\n",
    "    #     flag=False\n",
    "        # A = np.random.randint(5, size=(n, n))\n",
    "    A = np.random.rand(n, n)\n",
    "    # A = A.T @ A\n",
    "    # Calculate how close it is to circulant\n",
    "    # c = circ_first_col(A)\n",
    "    c = circ_max_min(A)\n",
    "    # print(f\"Circulant Basis: {d}\")\n",
    "\n",
    "    M = sp.linalg.circulant(c).T\n",
    "    N = M - A\n",
    "\n",
    "    Minv = np.linalg.inv(M)\n",
    "    G = Minv @ N\n",
    "    d, v = np.linalg.eig(G)\n",
    "\n",
    "    spectral = np.max(np.abs(d))\n",
    "    ctr+=1\n",
    "\n",
    "U, S, Vh = np.linalg.svd(N)\n",
    "U = U @ np.diag(S)\n",
    "uvt = U @ Vh\n",
    "print(uvt)\n",
    "print(N)\n",
    "\n",
    "da, va = d, v = np.linalg.eig(Vh @ Minv @ U)\n",
    "print(np.max(np.abs(da)))\n",
    "print(np.min(spectral))\n",
    "# print(c)\n",
    "# print(np.argmin(spectral))\n",
    "# plt.loglog(omegas, spectral)"
   ]
  },
  {
   "cell_type": "code",
   "execution_count": 371,
   "metadata": {},
   "outputs": [
    {
     "name": "stdout",
     "output_type": "stream",
     "text": [
      "[[ 0.4  0.2 -0.6 -0.3]\n",
      " [-0.9  0.3 -0.5  0.1]\n",
      " [-0.4 -0.4  0.3 -0.9]\n",
      " [-0.   0.   0.1  1. ]]\n",
      "[-0.3+0.j   0.8+0.3j  0.8-0.3j  0.7+0.j ]\n",
      "0.8926142457898667\n",
      "[[  0.5   1.1  -0.8   7. ]\n",
      " [ -1.6   0.3   1.4  -0.1]\n",
      " [  0.9  -0.4   0.  -10.3]\n",
      " [ -0.2  -0.6   1.2   5. ]]\n",
      "M Norm: 2.060788405768451\n",
      "Minv Norm: 3.501144488170144\n",
      "N Norm: 1.5516330206024256\n",
      "Minv N Norm: 5.432491397744974\n",
      "G Norm: 1.9541226971347294\n",
      "[[0.2 0.4 0.3 0.9]\n",
      " [0.9 0.2 0.4 0.3]\n",
      " [0.3 0.9 0.2 0.4]\n",
      " [0.4 0.3 0.9 0.2]]\n"
     ]
    },
    {
     "data": {
      "image/png": "[encoded data removed]",
      "text/plain": [
       "<Figure size 640x480 with 1 Axes>"
      ]
     },
     "metadata": {},
     "output_type": "display_data"
    }
   ],
   "source": [
    "# Generate A\n",
    "n = 4\n",
    "# A = np.random.randint(5, size=(n, n))\n",
    "# A = np.random.rand(n, n)\n",
    "# A = A.T @ A\n",
    "# Calculate how close it is to circulant\n",
    "# omega = omegas[8]\n",
    "# Q = np.diag(np.ones(n-1), 1) + np.diag(np.ones(1), 1-n)\n",
    "# d = [1/omega * np.trace(A.T @ np.linalg.matrix_power(Q,i))/n for i in range(1, n+1)]\n",
    "# c = [c[(i-1) % n] for i in range(n)]\n",
    "# print(f\"Circulant Basis: {d}\")\n",
    "M = sp.linalg.circulant(c).T\n",
    "N = M - A\n",
    "\n",
    "# Case 1\n",
    "b = np.random.randint(1, 5, (4, 1))\n",
    "xexact = np.linalg.solve(A, b)\n",
    "\n",
    "# # print(b)\n",
    "\n",
    "# initialize\n",
    "err = 1.0\n",
    "iters = 0\n",
    "xhist = []\n",
    "err = []\n",
    "x = [np.zeros(shape=(4,1))]\n",
    "\n",
    "Minv = np.linalg.inv(M)\n",
    "f = Minv @ b\n",
    "G = Minv @ N\n",
    "print(G)\n",
    "d, v = np.linalg.eig(G)\n",
    "print(d)\n",
    "print(np.max(np.abs(d)))\n",
    "\n",
    "niter = 1000\n",
    "for i in range(niter):\n",
    "    x.append(G @ x[-1] + f)\n",
    "\n",
    "Gsum = np.zeros((4,4))\n",
    "for k in range(10):\n",
    "    Gsum += np.linalg.matrix_power(G, k)\n",
    "\n",
    "print(Gsum)\n",
    "\n",
    "x_smw = np.zeros(shape=(4,1))\n",
    "# iterate\n",
    "for i in range(niter):\n",
    "    g = N @ x_smw + b\n",
    "    xnew = spl.solve_circulant(M[:,0],g) ### This was previously M[0] which is WRONG\n",
    "    xhist.append(xnew)\n",
    "    err.append(npl.norm(A @ xnew - b))\n",
    "    x_smw = np.copy(xnew)\n",
    "\n",
    "print(f\"M Norm: {np.linalg.norm(M)}\")\n",
    "print(f\"Minv Norm: {np.linalg.norm(Minv)}\")\n",
    "print(f\"N Norm: {np.linalg.norm(N)}\")\n",
    "print(f\"Minv N Norm: {np.linalg.norm(Minv) * np.linalg.norm(N) }\")\n",
    "print(f\"G Norm: {np.linalg.norm(G)}\")\n",
    "# print(f\"Minv bound: {np.linalg.norm(M - np.eye(n))}\")\n",
    "\n",
    "# # plot\n",
    "plt.semilogy(range(1,len(xhist)+1), err, label=\"SMW\")\n",
    "plt.xlabel(\"Iteration\")\n",
    "plt.ylabel(\"Norm Error\")\n",
    "plt.xlim(1, len(xhist))\n",
    "plt.title(\"SMW\")\n",
    "\n",
    "plt.semilogy([np.linalg.norm(A @ i - b) for i in x], label=\"Ginv\")\n",
    "plt.legend()\n",
    "# plt.plot(x)\n",
    "print(M)"
   ]
  },
  {
   "cell_type": "code",
   "execution_count": 8,
   "metadata": {},
   "outputs": [
    {
     "name": "stdout",
     "output_type": "stream",
     "text": [
      "[[-0.44578356 -0.40907908 -0.33483063  0.37948245]\n",
      " [ 0.23890635  0.04843637  0.73471023  0.24086288]\n",
      " [ 0.4066216   0.63655671 -0.39837261 -0.75746128]\n",
      " [-0.29501009 -0.41697132 -0.18280923 -0.15216669]]\n",
      "[[ 0.40006267 -0.61035862 -0.46192522  0.29699889]\n",
      " [ 0.37320167  1.27335645  0.60596585  0.04324638]\n",
      " [ 0.45217445  0.62370914  0.9532655  -0.40328682]\n",
      " [-0.30882625 -0.4043662  -0.24115468  0.85526167]]\n"
     ]
    }
   ],
   "source": [
    "# print(A)\n",
    "# print(M)\n",
    "# print(N)\n",
    "print(G)\n",
    "Gsum = np.zeros((4,4))\n",
    "for k in range(10):\n",
    "    Gsum += np.linalg.matrix_power(G, k)\n",
    "\n",
    "print(Gsum)"
   ]
  },
  {
   "cell_type": "code",
   "execution_count": 305,
   "metadata": {},
   "outputs": [
    {
     "name": "stdout",
     "output_type": "stream",
     "text": [
      "[[-0.3  0.   0.  -0.3]\n",
      " [-0.   0.   0.  -0. ]\n",
      " [ 0.2  0.   0.   0.2]\n",
      " [-0.   0.   0.  -0. ]]\n",
      "[ 0.   0.  -0.4  0. ]\n",
      "0.35000000000000003\n",
      "M Norm: 10.954451150103322\n",
      "Minv Norm: 0.714142842854285\n",
      "N Norm: 2.0\n",
      "Minv N Norm: 1.42828568570857\n",
      "G Norm: 0.5196152422706632\n"
     ]
    },
    {
     "data": {
      "text/plain": [
       "<matplotlib.legend.Legend at 0x7fceaf8fc520>"
      ]
     },
     "execution_count": 305,
     "metadata": {},
     "output_type": "execute_result"
    },
    {
     "data": {
      "image/png": "[encoded data removed]",
      "text/plain": [
       "<Figure size 640x480 with 1 Axes>"
      ]
     },
     "metadata": {},
     "output_type": "display_data"
    }
   ],
   "source": [
    "# Generate A\n",
    "A =  np.array([[5.,3.,2.,2.],\n",
    "               [1.,4.,3.,2.],\n",
    "               [2.,1.,4.,3.],\n",
    "               [4.,2.,1.,5.]])\n",
    "\n",
    "N = sps.lil_matrix((4, 4))\n",
    "N[0,0]=-1.0; N[3,0]=-1.0; N[0,3]=-1.0; N[3,3]=-1.0\n",
    "N = N.toarray()\n",
    "M = A + N\n",
    "\n",
    "# Case 1\n",
    "b = np.random.randint(1, 5, (4, 1))\n",
    "xexact = np.linalg.solve(A, b)\n",
    "\n",
    "# # print(b)\n",
    "\n",
    "# initialize\n",
    "err = 1.0\n",
    "iters = 0\n",
    "xhist = []\n",
    "err = []\n",
    "x = [np.zeros(shape=(4,1))]\n",
    "\n",
    "Minv = np.linalg.inv(M)\n",
    "f = Minv @ b\n",
    "G = Minv @ N\n",
    "print(G)\n",
    "d, v = np.linalg.eig(G)\n",
    "print(d)\n",
    "print(np.max(np.abs(d)))\n",
    "\n",
    "niter = 100\n",
    "for i in range(niter):\n",
    "    x.append(G @ x[-1] + f)\n",
    "\n",
    "x_smw = np.zeros(shape=(4,1))\n",
    "# iterate\n",
    "for i in range(niter):\n",
    "    c = N @ x_smw + b\n",
    "    xnew = spl.solve_circulant(M[:,0],c) ### This was previously M[0] which is WRONG\n",
    "    xhist.append(xnew)\n",
    "    err.append(npl.norm(A @ xnew - b))\n",
    "    x_smw = np.copy(xnew)\n",
    "\n",
    "print(f\"M Norm: {np.linalg.norm(M)}\")\n",
    "print(f\"Minv Norm: {np.linalg.norm(Minv)}\")\n",
    "print(f\"N Norm: {np.linalg.norm(N)}\")\n",
    "print(f\"Minv N Norm: {np.linalg.norm(Minv) * np.linalg.norm(N) }\")\n",
    "print(f\"G Norm: {np.linalg.norm(G)}\")\n",
    "# print(f\"Minv bound: {np.linalg.norm(M - np.eye(n))}\")\n",
    "\n",
    "# # plot\n",
    "plt.semilogy(range(1,len(xhist)+1), err, label=\"SMW\")\n",
    "plt.xlabel(\"Iteration\")\n",
    "plt.ylabel(\"Norm Error\")\n",
    "plt.xlim(1, len(xhist))\n",
    "plt.title(\"SMW\")\n",
    "\n",
    "plt.semilogy([np.linalg.norm(A @ i - b) for i in x], label=\"Ginv\")\n",
    "plt.legend()\n",
    "# plt.plot(x)"
   ]
  },
  {
   "cell_type": "code",
   "execution_count": 291,
   "metadata": {},
   "outputs": [
    {
     "name": "stdout",
     "output_type": "stream",
     "text": [
      "[[ 0.5  0.   0.   0.5]\n",
      " [ 0.   0.   0.   0. ]\n",
      " [-1.1  0.   0.  -1.1]\n",
      " [-0.6  0.   0.  -0.6]]\n",
      "[ 0.   0.   0.  -0.1]\n",
      "0.08055783092397206\n",
      "M Norm: 2.1527334263703017\n",
      "Minv Norm: 159.3140916787671\n",
      "N Norm: 2.0\n",
      "Minv N Norm: 318.6281833575342\n",
      "G Norm: 1.8262829960249538\n"
     ]
    },
    {
     "data": {
      "text/plain": [
       "<matplotlib.legend.Legend at 0x7fceaea3e080>"
      ]
     },
     "execution_count": 291,
     "metadata": {},
     "output_type": "execute_result"
    },
    {
     "data": {
      "image/png": "[encoded data removed]",
      "text/plain": [
       "<Figure size 640x480 with 1 Axes>"
      ]
     },
     "metadata": {},
     "output_type": "display_data"
    }
   ],
   "source": [
    "# Generate A\n",
    "# A =  np.array([[5.,3.,2.,2.],\n",
    "#                [1.,4.,3.,2.],\n",
    "#                [2.,1.,4.,3.],\n",
    "#                [4.,2.,1.,5.]])\n",
    "\n",
    "M = sp.linalg.circulant(np.random.rand(4))\n",
    "\n",
    "N = sps.lil_matrix((4, 4))\n",
    "N[0,0]=-1.0; N[3,0]=-1.0; N[0,3]=-1.0; N[3,3]=-1.0\n",
    "N = N.toarray()\n",
    "\n",
    "A = M - N\n",
    "\n",
    "\n",
    "# Case 1\n",
    "b = np.random.randint(1, 5, (4, 1))\n",
    "xexact = np.linalg.solve(A, b)\n",
    "\n",
    "# # print(b)\n",
    "\n",
    "# initialize\n",
    "err = 1.0\n",
    "iters = 0\n",
    "xhist = []\n",
    "err = []\n",
    "x = [np.zeros(shape=(4,1))]\n",
    "\n",
    "Minv = np.linalg.inv(M)\n",
    "f = Minv @ b\n",
    "G = Minv @ N\n",
    "print(G)\n",
    "d, v = np.linalg.eig(G)\n",
    "print(d)\n",
    "print(np.max(np.abs(d)))\n",
    "\n",
    "niter = 100\n",
    "for i in range(niter):\n",
    "    x.append(G @ x[-1] + f)\n",
    "\n",
    "\n",
    "x_smw = np.zeros(shape=(4,1))\n",
    "# iterate\n",
    "for i in range(niter):\n",
    "    c = N @ x_smw + b\n",
    "    xnew = spl.solve_circulant(M[:,0],c) ### This was previously M[0] which is WRONG\n",
    "    xhist.append(xnew)\n",
    "    err.append(npl.norm(A @ xnew - b))\n",
    "    x_smw = np.copy(xnew)\n",
    "\n",
    "print(f\"M Norm: {np.linalg.norm(M)}\")\n",
    "print(f\"Minv Norm: {np.linalg.norm(Minv)}\")\n",
    "print(f\"N Norm: {np.linalg.norm(N)}\")\n",
    "print(f\"Minv N Norm: {np.linalg.norm(Minv) * np.linalg.norm(N) }\")\n",
    "print(f\"G Norm: {np.linalg.norm(G)}\")\n",
    "# print(f\"Minv bound: {np.linalg.norm(M - np.eye(n))}\")\n",
    "\n",
    "# # plot\n",
    "plt.semilogy(range(1,len(xhist)+1), err, label=\"SMW\")\n",
    "plt.xlabel(\"Iteration\")\n",
    "plt.ylabel(\"Norm Error\")\n",
    "plt.xlim(1, len(xhist))\n",
    "plt.title(\"SMW\")\n",
    "\n",
    "plt.semilogy([np.linalg.norm(A @ i - b) for i in x], label=\"Ginv\")\n",
    "plt.legend()\n",
    "# plt.plot(x)"
   ]
  },
  {
   "cell_type": "code",
   "execution_count": 176,
   "metadata": {},
   "outputs": [
    {
     "name": "stdout",
     "output_type": "stream",
     "text": [
      "[1.77908385 1.59450718 0.         1.59450718]\n",
      "[[0.77908385 1.59450718 0.         0.59450718]\n",
      " [1.59450718 1.77908385 1.59450718 0.        ]\n",
      " [0.         1.59450718 1.77908385 1.59450718]\n",
      " [0.59450718 0.         1.59450718 0.77908385]]\n",
      "[[1.77908385 1.59450718 0.         1.59450718]\n",
      " [1.59450718 1.77908385 1.59450718 0.        ]\n",
      " [0.         1.59450718 1.77908385 1.59450718]\n",
      " [1.59450718 0.         1.59450718 1.77908385]]\n",
      "[[1. 0. 0. 1.]\n",
      " [0. 0. 0. 0.]\n",
      " [0. 0. 0. 0.]\n",
      " [1. 0. 0. 1.]]\n",
      "[[1. 0. 0. 1.]\n",
      " [0. 0. 0. 0.]\n",
      " [0. 0. 0. 0.]\n",
      " [1. 0. 0. 1.]]\n",
      "[[1. 0. 0. 1.]\n",
      " [0. 0. 0. 0.]\n",
      " [0. 0. 0. 0.]\n",
      " [1. 0. 0. 1.]]\n",
      "0.7633713180343059\n",
      "0.7633713180343061\n"
     ]
    }
   ],
   "source": [
    "# Investigate making top row the circulant matrix\n",
    "\n",
    "n = 4\n",
    "spectral = 2\n",
    "ctr = 0\n",
    "# while (spectral > 1) and (ctr <= 1000):\n",
    "#     # flag = True\n",
    "#     # while flag:\n",
    "#     #     flag=False\n",
    "#         # A = np.random.randint(5, size=(n, n))\n",
    "#     A = np.random.rand(n, n)\n",
    "#     # A = A.T @ A\n",
    "#     # Calculate how close it is to circulant\n",
    "#     c = circ_first_col(A)\n",
    "#     # c = circ_max_min(A)\n",
    "#     # print(f\"Circulant Basis: {d}\")\n",
    "\n",
    "c0 = np.random.rand(1)[0]\n",
    "c2 = c1 = np.random.rand(1)[0]\n",
    "\n",
    "c = np.array([c0, c1, -1, c2])+1\n",
    "\n",
    "M = sp.linalg.circulant(c)\n",
    "\n",
    "N = np.zeros(shape=(4,4))\n",
    "N[0,0]=1.0; N[3,0]=1.0; N[0,3]=1.0; N[3,3]=1.0\n",
    "A = M - N\n",
    "\n",
    "print(c)\n",
    "print(A)\n",
    "print(M)\n",
    "print(N)\n",
    "\n",
    "\n",
    "Minv = np.linalg.inv(M)\n",
    "G = Minv @ N\n",
    "d, v = np.linalg.eig(G)\n",
    "\n",
    "spectral = np.max(np.abs(d))\n",
    "\n",
    "\n",
    "U, S, Vh = np.linalg.svd(N)\n",
    "U = U @ np.diag(S)\n",
    "uvt = U @ Vh\n",
    "print(uvt)\n",
    "print(N)\n",
    "\n",
    "da, va = d, v = np.linalg.eig(Vh @ Minv @ U)\n",
    "print(np.max(np.abs(da)))\n",
    "print(np.min(spectral))\n",
    "# print(c)\n",
    "# print(np.argmin(spectral))\n",
    "# plt.loglog(omegas, spectral)\n",
    "\n"
   ]
  },
  {
   "cell_type": "code",
   "execution_count": 273,
   "metadata": {},
   "outputs": [
    {
     "name": "stdout",
     "output_type": "stream",
     "text": [
      "[[1.9 1.4 0.  1.4]\n",
      " [1.4 1.9 1.4 0. ]\n",
      " [0.  1.4 1.9 1.4]\n",
      " [1.4 0.  1.4 1.9]]\n",
      "[[ 0.4-1.0e-16j  0. +0.0e+00j  0. +0.0e+00j  0.4-1.0e-16j]\n",
      " [-0.2+1.2e-16j  0. +0.0e+00j  0. +0.0e+00j -0.2+1.2e-16j]\n",
      " [-0.2-8.3e-17j  0. +0.0e+00j  0. +0.0e+00j -0.2-8.3e-17j]\n",
      " [ 0.4+3.9e-17j  0. +0.0e+00j  0. +0.0e+00j  0.4+3.9e-17j]]\n",
      "[[ 0.4  0.   0.   0.4]\n",
      " [-0.2  0.   0.  -0.2]\n",
      " [-0.2  0.   0.  -0.2]\n",
      " [ 0.4  0.   0.   0.4]]\n",
      "[[0.2 0.  0.  0.2]\n",
      " [0.3 0.  0.  0.3]\n",
      " [0.  0.  0.  0. ]\n",
      " [0.3 0.  0.  0.3]]\n",
      "0.710112375813154\n"
     ]
    },
    {
     "name": "stderr",
     "output_type": "stream",
     "text": [
      "/tmp/ipykernel_5160/1048253342.py:52: ComplexWarning: Casting complex values to real discards the imaginary part\n",
      "  G[j,0] = G[j,n-1] = a/n * 1/D[j,j] * (2 + 2 * np.cos(2 * np.pi * j * (n-1)/n))\n"
     ]
    }
   ],
   "source": [
    "# Define circulant matrix with form [c0, c1, 0, c1]\n",
    "n = 4\n",
    "c0 = np.random.rand(1)[0]\n",
    "c2 = c1 = np.random.rand(1)[0]\n",
    "c = np.array([c0, c1, -1, c2])+1\n",
    "M = sp.linalg.circulant(c)\n",
    "print(M)\n",
    "\n",
    "# Make rank 2 matrix N\n",
    "N = np.zeros(shape=(n, n))\n",
    "a = 1\n",
    "N[0,0]=a; N[3,0]=a; N[0,3]=a; N[3,3]=a\n",
    "A = M - N\n",
    "\n",
    "# Make DFT Matrix\n",
    "F = np.zeros((n,n), dtype=complex)\n",
    "for i in range(n):\n",
    "    for j in range(n):\n",
    "        F[i, j] = 1/np.sqrt(n) * np.exp(-2 * np.pi * 1j * i * j / n)\n",
    "\n",
    "# Recreate the diagonal entries of Minv\n",
    "D = np.diag(fft(c))\n",
    "print(F @ np.linalg.inv(D) @ np.linalg.inv(F) @ N)\n",
    "# Minv = np.linalg.inv(M)\n",
    "# print(Minv @ N)\n",
    "\n",
    "# d, v = np.linalg.eig(np.linalg.inv(M) @ N)\n",
    "# print(d)\n",
    "\n",
    "# Recreate Finv @ N\n",
    "Finv = np.linalg.inv(F)\n",
    "FinvN = np.zeros(shape=(n,n), dtype=complex)\n",
    "for j in range(n):\n",
    "    FinvN[j,0] = FinvN[j,n-1] = a/np.sqrt(n) * (1 + np.exp(1j * 2 * np.pi * j * (n-1)/n))\n",
    "# print(Finv @ N)\n",
    "# print(FinvN)\n",
    "\n",
    "Dinv = np.linalg.inv(D)\n",
    "DFinvN = np.zeros(shape=(n,n), dtype=complex)\n",
    "for j in range(n):\n",
    "    DFinvN[j,0] = DFinvN[j,n-1] = a/np.sqrt(n) * 1/D[j,j] * (1 + np.exp(1j * 2 * np.pi * j * (n-1)/n))\n",
    "# print(DFinvN)\n",
    "# print(np.linalg.inv(D) @ np.linalg.inv(F) @ N)\n",
    "# print(np.linalg.norm(DFinvN - np.linalg.inv(D) @ np.linalg.inv(F) @ N))\n",
    "\n",
    "\n",
    "# # Recreate Minv N\n",
    "Minv = np.linalg.inv(M)\n",
    "G = np.zeros(shape=(n,n))\n",
    "for j in range(n):\n",
    "    # print((2 + 2 * np.cos(2 * np.pi * j * (n-1)/n)))\n",
    "    G[j,0] = G[j,n-1] = a/n * 1/D[j,j] * (2 + 2 * np.cos(2 * np.pi * j * (n-1)/n))\n",
    "print(Minv @ N)\n",
    "print(G)\n",
    "print(np.linalg.norm(G - Minv @ N))\n",
    "\n",
    "np.set_printoptions(precision=1)"
   ]
  }
 ],
 "metadata": {
  "kernelspec": {
   "display_name": "base",
   "language": "python",
   "name": "python3"
  },
  "language_info": {
   "codemirror_mode": {
    "name": "ipython",
    "version": 3
   },
   "file_extension": ".py",
   "mimetype": "text/x-python",
   "name": "python",
   "nbconvert_exporter": "python",
   "pygments_lexer": "ipython3",
   "version": "3.11.5"
  }
 },
 "nbformat": 4,
 "nbformat_minor": 2
}
