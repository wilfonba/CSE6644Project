{
 "cells": [
  {
   "cell_type": "code",
   "execution_count": 1,
   "metadata": {},
   "outputs": [],
   "source": [
    "import numpy as np\n",
    "import scipy as sp\n",
    "import scipy.sparse as sps\n",
    "import scipy.sparse.linalg as spsl\n",
    "import numpy.linalg as npl\n",
    "import scipy.linalg as spl\n",
    "from numpy.fft import fft, ifft, fft2\n",
    "from matplotlib import pyplot as plt\n",
    "from pprint import pprint"
   ]
  },
  {
   "cell_type": "code",
   "execution_count": 2,
   "metadata": {},
   "outputs": [],
   "source": [
    "def SMW_iteration(M, N, b, x, tol = 1.e-5, maxit = 100):\n",
    "    # M, N : matrices such as A = M - N\n",
    "    # M : is the first column of the circulant matrix M\n",
    "    # N : is the sparse matrix N\n",
    "    # x : guess of the solution\n",
    "    \n",
    "    err = 1.0\n",
    "    iters = 0\n",
    "#     cc = fft(M)\n",
    "    xhist = []\n",
    "    while (err > tol and iters < maxit):\n",
    "        iters += 1\n",
    "        c = N@x+b\n",
    "#        xnew = fft(ifft(c)/cc).real\n",
    "        xnew = spl.solve_circulant(M,c)\n",
    "        err = npl.norm(xnew-x)\n",
    "        x = np.copy(xnew)\n",
    "        xhist.append(x)\n",
    "        \n",
    "    print('iterations required for convergence:', iters)\n",
    "    \n",
    "    return x, xhist\n",
    "\n",
    "def get_spectral_radius(M:np.ndarray, N:np.ndarray):\n",
    "    Minv = np.linalg.inv(M)\n",
    "    G = Minv @ N\n",
    "    D, V = np.linalg.eig(G)\n",
    "    rho = max(abs(D))\n",
    "    return rho"
   ]
  },
  {
   "cell_type": "code",
   "execution_count": 831,
   "metadata": {},
   "outputs": [],
   "source": [
    "# Functions of circulant decompositions\n",
    "# Minimizing frobenius norm between circulant bases\n",
    "def circ_base_norm(A, omega = 1):\n",
    "    n = len(A)\n",
    "    Q = np.diag(np.ones(n-1), 1) + np.diag(np.ones(1), 1-n)\n",
    "    d = [1/omega * np.trace(A.T @ np.linalg.matrix_power(Q,i))/n for i in range(1, n+1)]\n",
    "    c = [d[(i-1) % n] for i in range(n)]\n",
    "    return c\n",
    "\n",
    "def circ_top_row(A):\n",
    "    c = A[0,:]\n",
    "    return c\n",
    "\n",
    "def circ_max(A):\n",
    "    n = len(A)\n",
    "    Q = np.diag(np.ones(n-1), 1) + np.diag(np.ones(1), 1-n)\n",
    "    d = [np.max(np.diag(A.T @ np.linalg.matrix_power(Q,i))) for i in range(1, n+1)]\n",
    "    c = [d[(i-1) % n] for i in range(n)]\n",
    "    return c\n",
    "\n",
    "def circ_min(A):\n",
    "    n = len(A)\n",
    "    Q = np.diag(np.ones(n-1), 1) + np.diag(np.ones(1), 1-n)\n",
    "    d = [np.min(np.diag(A.T @ np.linalg.matrix_power(Q,i))) for i in range(1, n+1)]\n",
    "    c = [d[(i-1) % n] for i in range(n)]\n",
    "    return c\n",
    "\n",
    "def circ_max_min(A):\n",
    "    n = len(A)\n",
    "    Q = np.diag(np.ones(n-1), 1) + np.diag(np.ones(1), 1-n)\n",
    "    d = [np.min(np.diag(A.T @ np.linalg.matrix_power(Q,i))) for i in range(1, n)]\n",
    "    d.append(np.max(np.diag(A)))\n",
    "    # c = [d[(i-1) % n] for i in range(n)]\n",
    "    return d"
   ]
  },
  {
   "cell_type": "code",
   "execution_count": 849,
   "metadata": {},
   "outputs": [
    {
     "name": "stdout",
     "output_type": "stream",
     "text": [
      "0.9786409901530527\n"
     ]
    },
    {
     "data": {
      "text/plain": [
       "[<matplotlib.lines.Line2D at 0x7f5acd5856a0>]"
      ]
     },
     "execution_count": 849,
     "metadata": {},
     "output_type": "execute_result"
    },
    {
     "data": {
      "image/png": "[encoded data removed]",
      "text/plain": [
       "<Figure size 432x288 with 1 Axes>"
      ]
     },
     "metadata": {
      "needs_background": "light"
     },
     "output_type": "display_data"
    }
   ],
   "source": [
    "# Investigate SOR parameter omega on the spectral radius\n",
    "\n",
    "n = 4\n",
    "# A = np.random.randint(5, size=(n, n))\n",
    "A = np.random.rand(n, n)\n",
    "A = A.T @ A\n",
    "# Calculate how close it is to circulant\n",
    "omegas = np.logspace(-5, 0, 10)\n",
    "spectral = []\n",
    "for omega in omegas:\n",
    "    c = circ_base_norm(A, omega)\n",
    "    # print(f\"Circulant Basis: {d}\")\n",
    "\n",
    "    M = sp.linalg.circulant(c).T\n",
    "    N = A - M\n",
    "\n",
    "    Minv = np.linalg.inv(M)\n",
    "    G = Minv @ N\n",
    "    d, v = np.linalg.eig(G)\n",
    "\n",
    "    spectral.append(np.max(np.abs(d)))\n",
    "\n",
    "print(np.min(spectral))\n",
    "omega = np.argmin(spectral)\n",
    "c = circ_base_norm(A, omegas[omega])\n",
    "plt.loglog(omegas, spectral)"
   ]
  },
  {
   "cell_type": "code",
   "execution_count": 897,
   "metadata": {},
   "outputs": [
    {
     "name": "stdout",
     "output_type": "stream",
     "text": [
      "[[ 1.67872063e-17  5.99324324e-17  4.42482027e-17 -8.14762329e-18]\n",
      " [ 3.22789313e-01 -4.25186797e-01  4.88855817e-01 -2.13565285e-01]\n",
      " [-2.34920479e-01  5.25577677e-01 -3.61481511e-01  6.60241625e-02]\n",
      " [ 1.78709065e-01  8.79873138e-02  3.81999152e-01  4.86615094e-01]]\n",
      "[[ 0.          0.          0.          0.        ]\n",
      " [ 0.32278931 -0.4251868   0.48885582 -0.21356529]\n",
      " [-0.23492048  0.52557768 -0.36148151  0.06602416]\n",
      " [ 0.17870907  0.08798731  0.38199915  0.48661509]]\n",
      "0.9709921896195253\n",
      "0.970992189619524\n"
     ]
    }
   ],
   "source": [
    "# Investigate making top row the circulant matrix\n",
    "\n",
    "n = 4\n",
    "spectral = 2\n",
    "ctr = 0\n",
    "while (spectral > 1) and (ctr <= 1000):\n",
    "    # flag = True\n",
    "    # while flag:\n",
    "    #     flag=False\n",
    "        # A = np.random.randint(5, size=(n, n))\n",
    "    A = np.random.rand(n, n)\n",
    "    # A = A.T @ A\n",
    "    # Calculate how close it is to circulant\n",
    "    c = circ_top_row(A)\n",
    "    # c = circ_max_min(A)\n",
    "    # print(f\"Circulant Basis: {d}\")\n",
    "\n",
    "    M = sp.linalg.circulant(c).T\n",
    "    N = A - M\n",
    "\n",
    "    Minv = np.linalg.inv(M)\n",
    "    G = Minv @ N\n",
    "    d, v = np.linalg.eig(G)\n",
    "\n",
    "    spectral = np.max(np.abs(d))\n",
    "    ctr+=1\n",
    "\n",
    "U, S, Vh = np.linalg.svd(N)\n",
    "U = U @ np.diag(S)\n",
    "uvt = U @ Vh\n",
    "print(uvt)\n",
    "print(N)\n",
    "\n",
    "da, va = d, v = np.linalg.eig(Vh @ Minv @ U)\n",
    "print(np.max(np.abs(da)))\n",
    "print(np.min(spectral))\n",
    "# print(c)\n",
    "# print(np.argmin(spectral))\n",
    "# plt.loglog(omegas, spectral)"
   ]
  },
  {
   "cell_type": "code",
   "execution_count": 888,
   "metadata": {},
   "outputs": [
    {
     "name": "stdout",
     "output_type": "stream",
     "text": [
      "[[-0.00684693 -0.65610388  0.32251349 -0.48831048]\n",
      " [ 0.65757416  0.37443592  0.52725706  0.88450637]\n",
      " [-0.23044829  0.97940236 -0.80630231  0.65864089]\n",
      " [-0.24065958 -0.54341224  0.21218454 -1.10929435]]\n",
      "[-8.96960989e-01+0.19252817j -8.96960989e-01-0.19252817j\n",
      "  2.45914316e-01+0.j          2.30140693e-18+0.j        ]\n",
      "0.9173909255613584\n",
      "[[ 8.57623961e-01 -5.81801288e-01  5.90072576e-02 -3.68527555e-01]\n",
      " [ 3.13835658e-01  1.57449230e+00  9.36462727e-02  6.13290856e-01]\n",
      " [-1.29004992e-03  7.67186158e-01  6.67331507e-01  4.30001517e-01]\n",
      " [ 2.07165474e-01 -5.30677920e-01  6.33438760e-01  4.59841952e-01]]\n",
      "M Norm: 1.7909331589748183\n",
      "Minv Norm: 5.7804326402699875\n",
      "N Norm: 0.8974934833160939\n",
      "Minv N Norm: 5.187900625389957\n",
      "G Norm: 2.476080691748241\n",
      "[[0.71123752 0.22691521 0.47181666 0.14798684]\n",
      " [0.14798684 0.71123752 0.22691521 0.47181666]\n",
      " [0.47181666 0.14798684 0.71123752 0.22691521]\n",
      " [0.22691521 0.47181666 0.14798684 0.71123752]]\n"
     ]
    },
    {
     "data": {
      "image/png": "[encoded data removed]",
      "text/plain": [
       "<Figure size 432x288 with 1 Axes>"
      ]
     },
     "metadata": {
      "needs_background": "light"
     },
     "output_type": "display_data"
    }
   ],
   "source": [
    "# Generate A\n",
    "n = 4\n",
    "# A = np.random.randint(5, size=(n, n))\n",
    "# A = np.random.rand(n, n)\n",
    "# A = A.T @ A\n",
    "# Calculate how close it is to circulant\n",
    "# omega = omegas[8]\n",
    "# Q = np.diag(np.ones(n-1), 1) + np.diag(np.ones(1), 1-n)\n",
    "# d = [1/omega * np.trace(A.T @ np.linalg.matrix_power(Q,i))/n for i in range(1, n+1)]\n",
    "# c = [c[(i-1) % n] for i in range(n)]\n",
    "# print(f\"Circulant Basis: {d}\")\n",
    "M = sp.linalg.circulant(c).T\n",
    "N = A - M\n",
    "\n",
    "# Case 1\n",
    "b = np.random.randint(1, 5, (4, 1))\n",
    "xexact = np.linalg.solve(A, b)\n",
    "\n",
    "# # print(b)\n",
    "\n",
    "# initialize\n",
    "err = 1.0\n",
    "iters = 0\n",
    "xhist = []\n",
    "err = []\n",
    "x = [np.zeros(shape=(4,1))]\n",
    "\n",
    "Minv = np.linalg.inv(M)\n",
    "f = Minv @ b\n",
    "G = Minv @ N\n",
    "print(G)\n",
    "d, v = np.linalg.eig(G)\n",
    "print(d)\n",
    "print(np.max(np.abs(d)))\n",
    "\n",
    "niter = 100\n",
    "for i in range(niter):\n",
    "    x.append(G @ x[-1] + f)\n",
    "\n",
    "Gsum = np.zeros((4,4))\n",
    "for k in range(10):\n",
    "    Gsum += np.linalg.matrix_power(G, k)\n",
    "\n",
    "print(Gsum)\n",
    "\n",
    "x_smw = np.zeros(shape=(4,1))\n",
    "# iterate\n",
    "for i in range(niter):\n",
    "    g = N @ x_smw + b\n",
    "    xnew = spl.solve_circulant(M[:,0],g) ### This was previously M[0] which is WRONG\n",
    "    xhist.append(xnew)\n",
    "    err.append(npl.norm(A @ xnew - b))\n",
    "    x_smw = np.copy(xnew)\n",
    "\n",
    "print(f\"M Norm: {np.linalg.norm(M)}\")\n",
    "print(f\"Minv Norm: {np.linalg.norm(Minv)}\")\n",
    "print(f\"N Norm: {np.linalg.norm(N)}\")\n",
    "print(f\"Minv N Norm: {np.linalg.norm(Minv) * np.linalg.norm(N) }\")\n",
    "print(f\"G Norm: {np.linalg.norm(G)}\")\n",
    "# print(f\"Minv bound: {np.linalg.norm(M - np.eye(n))}\")\n",
    "\n",
    "# # plot\n",
    "plt.semilogy(range(1,len(xhist)+1), err, label=\"SMW\")\n",
    "plt.xlabel(\"Iteration\")\n",
    "plt.ylabel(\"Norm Error\")\n",
    "plt.xlim(1, len(xhist))\n",
    "plt.title(\"SMW\")\n",
    "\n",
    "plt.semilogy([np.linalg.norm(A @ i - b) for i in x], label=\"Ginv\")\n",
    "plt.legend()\n",
    "# plt.plot(x)\n",
    "print(M)"
   ]
  },
  {
   "cell_type": "code",
   "execution_count": 460,
   "metadata": {},
   "outputs": [
    {
     "name": "stdout",
     "output_type": "stream",
     "text": [
      "[[-1.22643223 -0.78377936 -0.86670987 -1.24847663]\n",
      " [ 0.21946213  0.32950893 -0.15556388  0.05529659]\n",
      " [ 0.63192762  0.36654936  0.5246678   0.97612492]\n",
      " [-0.03678168  0.17948566  0.66246514  0.37225551]]\n",
      "[[-0.85891712 -2.0250351  -3.16593294 -3.80838097]\n",
      " [-0.22470559  0.76725852 -1.46509117 -1.39830489]\n",
      " [ 1.43220277  1.71301658  4.14164274  3.83429567]\n",
      " [ 0.99304674  1.79066599  3.65728612  4.79875883]]\n"
     ]
    }
   ],
   "source": [
    "# print(A)\n",
    "# print(M)\n",
    "# print(N)\n",
    "print(G)\n",
    "Gsum = np.zeros((4,4))\n",
    "for k in range(10):\n",
    "    Gsum += np.linalg.matrix_power(G, k)\n",
    "\n",
    "print(Gsum)"
   ]
  },
  {
   "cell_type": "code",
   "execution_count": 504,
   "metadata": {},
   "outputs": [
    {
     "name": "stdout",
     "output_type": "stream",
     "text": [
      "[[-0.3   0.    0.   -0.3 ]\n",
      " [-0.05  0.    0.   -0.05]\n",
      " [ 0.2   0.    0.    0.2 ]\n",
      " [-0.05  0.    0.   -0.05]]\n",
      "[ 0.    0.   -0.35  0.  ]\n",
      "0.35000000000000003\n",
      "M Norm: 10.954451150103322\n",
      "Minv Norm: 0.714142842854285\n",
      "N Norm: 2.0\n",
      "Minv N Norm: 1.42828568570857\n",
      "G Norm: 0.5196152422706632\n"
     ]
    },
    {
     "data": {
      "text/plain": [
       "<matplotlib.legend.Legend at 0x7f5adb9942b0>"
      ]
     },
     "execution_count": 504,
     "metadata": {},
     "output_type": "execute_result"
    },
    {
     "data": {
      "image/png": "[encoded data removed]",
      "text/plain": [
       "<Figure size 432x288 with 1 Axes>"
      ]
     },
     "metadata": {
      "needs_background": "light"
     },
     "output_type": "display_data"
    }
   ],
   "source": [
    "# Generate A\n",
    "A =  np.array([[5.,3.,2.,2.],\n",
    "               [1.,4.,3.,2.],\n",
    "               [2.,1.,4.,3.],\n",
    "               [4.,2.,1.,5.]])\n",
    "\n",
    "N = sps.lil_matrix((4, 4))\n",
    "N[0,0]=-1.0; N[3,0]=-1.0; N[0,3]=-1.0; N[3,3]=-1.0\n",
    "N = N.toarray()\n",
    "M = A + N\n",
    "\n",
    "# Case 1\n",
    "b = np.random.randint(1, 5, (4, 1))\n",
    "xexact = np.linalg.solve(A, b)\n",
    "\n",
    "# # print(b)\n",
    "\n",
    "# initialize\n",
    "err = 1.0\n",
    "iters = 0\n",
    "xhist = []\n",
    "err = []\n",
    "x = [np.zeros(shape=(4,1))]\n",
    "\n",
    "Minv = np.linalg.inv(M)\n",
    "f = Minv @ b\n",
    "G = Minv @ N\n",
    "print(G)\n",
    "d, v = np.linalg.eig(G)\n",
    "print(d)\n",
    "print(np.max(np.abs(d)))\n",
    "\n",
    "niter = 100\n",
    "for i in range(niter):\n",
    "    x.append(G @ x[-1] + f)\n",
    "\n",
    "x_smw = np.zeros(shape=(4,1))\n",
    "# iterate\n",
    "for i in range(niter):\n",
    "    c = N @ x_smw + b\n",
    "    xnew = spl.solve_circulant(M[:,0],c) ### This was previously M[0] which is WRONG\n",
    "    xhist.append(xnew)\n",
    "    err.append(npl.norm(A @ xnew - b))\n",
    "    x_smw = np.copy(xnew)\n",
    "\n",
    "print(f\"M Norm: {np.linalg.norm(M)}\")\n",
    "print(f\"Minv Norm: {np.linalg.norm(Minv)}\")\n",
    "print(f\"N Norm: {np.linalg.norm(N)}\")\n",
    "print(f\"Minv N Norm: {np.linalg.norm(Minv) * np.linalg.norm(N) }\")\n",
    "print(f\"G Norm: {np.linalg.norm(G)}\")\n",
    "# print(f\"Minv bound: {np.linalg.norm(M - np.eye(n))}\")\n",
    "\n",
    "# # plot\n",
    "plt.semilogy(range(1,len(xhist)+1), err, label=\"SMW\")\n",
    "plt.xlabel(\"Iteration\")\n",
    "plt.ylabel(\"Norm Error\")\n",
    "plt.xlim(1, len(xhist))\n",
    "plt.title(\"SMW\")\n",
    "\n",
    "plt.semilogy([np.linalg.norm(A @ i - b) for i in x], label=\"Ginv\")\n",
    "plt.legend()\n",
    "# plt.plot(x)"
   ]
  },
  {
   "cell_type": "code",
   "execution_count": 862,
   "metadata": {},
   "outputs": [
    {
     "name": "stdout",
     "output_type": "stream",
     "text": [
      "[[-0.94640913  0.          0.         -0.94640913]\n",
      " [-0.95696532  0.          0.         -0.95696532]\n",
      " [ 0.52381571  0.          0.          0.52381571]\n",
      " [ 0.5343719   0.          0.          0.5343719 ]]\n",
      "[ 0.          0.         -0.41203724  0.        ]\n",
      "0.41203723667649217\n",
      "M Norm: 2.7308068948194935\n",
      "Minv Norm: 2.3710085894018462\n",
      "N Norm: 2.0\n",
      "Minv N Norm: 4.7420171788036924\n",
      "G Norm: 2.17780122971385\n"
     ]
    },
    {
     "data": {
      "text/plain": [
       "<matplotlib.legend.Legend at 0x7f5accadc820>"
      ]
     },
     "execution_count": 862,
     "metadata": {},
     "output_type": "execute_result"
    },
    {
     "data": {
      "image/png": "[encoded data removed]",
      "text/plain": [
       "<Figure size 432x288 with 1 Axes>"
      ]
     },
     "metadata": {
      "needs_background": "light"
     },
     "output_type": "display_data"
    }
   ],
   "source": [
    "# Generate A\n",
    "# A =  np.array([[5.,3.,2.,2.],\n",
    "#                [1.,4.,3.,2.],\n",
    "#                [2.,1.,4.,3.],\n",
    "#                [4.,2.,1.,5.]])\n",
    "\n",
    "M = sp.linalg.circulant(np.random.rand(4))\n",
    "\n",
    "N = sps.lil_matrix((4, 4))\n",
    "N[0,0]=-1.0; N[3,0]=-1.0; N[0,3]=-1.0; N[3,3]=-1.0\n",
    "N = N.toarray()\n",
    "\n",
    "A = M - N\n",
    "\n",
    "\n",
    "# Case 1\n",
    "b = np.random.randint(1, 5, (4, 1))\n",
    "xexact = np.linalg.solve(A, b)\n",
    "\n",
    "# # print(b)\n",
    "\n",
    "# initialize\n",
    "err = 1.0\n",
    "iters = 0\n",
    "xhist = []\n",
    "err = []\n",
    "x = [np.zeros(shape=(4,1))]\n",
    "\n",
    "Minv = np.linalg.inv(M)\n",
    "f = Minv @ b\n",
    "G = Minv @ N\n",
    "print(G)\n",
    "d, v = np.linalg.eig(G)\n",
    "print(d)\n",
    "print(np.max(np.abs(d)))\n",
    "\n",
    "niter = 100\n",
    "for i in range(niter):\n",
    "    x.append(G @ x[-1] + f)\n",
    "\n",
    "\n",
    "x_smw = np.zeros(shape=(4,1))\n",
    "# iterate\n",
    "for i in range(niter):\n",
    "    c = N @ x_smw + b\n",
    "    xnew = spl.solve_circulant(M[:,0],c) ### This was previously M[0] which is WRONG\n",
    "    xhist.append(xnew)\n",
    "    err.append(npl.norm(A @ xnew - b))\n",
    "    x_smw = np.copy(xnew)\n",
    "\n",
    "print(f\"M Norm: {np.linalg.norm(M)}\")\n",
    "print(f\"Minv Norm: {np.linalg.norm(Minv)}\")\n",
    "print(f\"N Norm: {np.linalg.norm(N)}\")\n",
    "print(f\"Minv N Norm: {np.linalg.norm(Minv) * np.linalg.norm(N) }\")\n",
    "print(f\"G Norm: {np.linalg.norm(G)}\")\n",
    "# print(f\"Minv bound: {np.linalg.norm(M - np.eye(n))}\")\n",
    "\n",
    "# # plot\n",
    "plt.semilogy(range(1,len(xhist)+1), err, label=\"SMW\")\n",
    "plt.xlabel(\"Iteration\")\n",
    "plt.ylabel(\"Norm Error\")\n",
    "plt.xlim(1, len(xhist))\n",
    "plt.title(\"SMW\")\n",
    "\n",
    "plt.semilogy([np.linalg.norm(A @ i - b) for i in x], label=\"Ginv\")\n",
    "plt.legend()\n",
    "# plt.plot(x)"
   ]
  }
 ],
 "metadata": {
  "kernelspec": {
   "display_name": "base",
   "language": "python",
   "name": "python3"
  },
  "language_info": {
   "codemirror_mode": {
    "name": "ipython",
    "version": 3
   },
   "file_extension": ".py",
   "mimetype": "text/x-python",
   "name": "python",
   "nbconvert_exporter": "python",
   "pygments_lexer": "ipython3",
   "version": "3.8.3"
  }
 },
 "nbformat": 4,
 "nbformat_minor": 2
}
